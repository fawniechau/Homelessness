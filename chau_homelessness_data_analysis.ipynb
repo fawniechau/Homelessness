{
  "nbformat": 4,
  "nbformat_minor": 0,
  "metadata": {
    "colab": {
      "provenance": [],
      "include_colab_link": true
    },
    "kernelspec": {
      "name": "python3",
      "display_name": "Python 3"
    },
    "language_info": {
      "name": "python"
    }
  },
  "cells": [
    {
      "cell_type": "markdown",
      "metadata": {
        "id": "view-in-github",
        "colab_type": "text"
      },
      "source": [
        "<a href=\"https://colab.research.google.com/github/fawniechau/Homelessness/blob/main/chau_homelessness_data_analysis.ipynb\" target=\"_parent\"><img src=\"https://colab.research.google.com/assets/colab-badge.svg\" alt=\"Open In Colab\"/></a>"
      ]
    },
    {
      "cell_type": "markdown",
      "source": [
        "## Introduction"
      ],
      "metadata": {
        "id": "cOSJyABoshOK"
      }
    },
    {
      "cell_type": "markdown",
      "source": [
        "This notebook focuses on utilizing data science methodologies to predict homelessness rates. It explores the intricate relationship between local housing market factors and the prevalence of homelessness. Through data science methodolgies, our goal is to understand the factors that contribute to homelessness and identify the key market predictors that influence these rates. "
      ],
      "metadata": {
        "id": "26hIPGtBsi7g"
      }
    },
    {
      "cell_type": "markdown",
      "source": [
        "## Import libraries"
      ],
      "metadata": {
        "id": "dwvtDMCYlPus"
      }
    },
    {
      "cell_type": "code",
      "execution_count": 19,
      "metadata": {
        "id": "DQZAzYri_ru5"
      },
      "outputs": [],
      "source": [
        "import pandas as pd\n",
        "import numpy as np\n",
        "import matplotlib.pyplot as plt\n",
        "import seaborn as sns\n",
        "sns.set_theme(style='whitegrid')\n",
        "import missingno as msno\n",
        "\n",
        "# Train-test splits\n",
        "from sklearn.model_selection import train_test_split\n",
        "from sklearn.model_selection import train_test_split, cross_val_score, GridSearchCV, KFold, RandomizedSearchCV\n",
        "\n",
        "# Model preprocessing\n",
        "from sklearn.preprocessing import StandardScaler\n",
        "from sklearn.experimental import enable_iterative_imputer\n",
        "from sklearn.impute import SimpleImputer, IterativeImputer, KNNImputer\n",
        "\n",
        "#Model preprocessing\n",
        "from sklearn import preprocessing\n",
        "from sklearn.preprocessing import PolynomialFeatures, StandardScaler\n",
        "from sklearn.preprocessing import RobustScaler\n",
        "\n",
        "#Train-test splits and cross validation\n",
        "from sklearn.model_selection import train_test_split, cross_val_score, GridSearchCV, KFold, RandomizedSearchCV\n",
        "\n",
        "from scipy.stats import uniform, randint\n",
        "\n",
        "#Models\n",
        "from sklearn.linear_model import LinearRegression, RidgeCV, LassoCV, Ridge, Lasso\n",
        "import statsmodels.api as sm\n",
        "\n",
        "#Model metrics\n",
        "from sklearn.metrics import r2_score, mean_squared_error, confusion_matrix\n",
        "\n",
        "#Missing data\n",
        "import missingno as msno\n",
        "\n",
        "import pandas as pd\n",
        "import numpy as np\n",
        "import matplotlib.pyplot as plt\n",
        "import seaborn as sns\n",
        "sns.set_theme(style='whitegrid')\n",
        "\n",
        "import statsmodels.formula.api as smf\n",
        "import statsmodels.api as sm\n",
        "\n",
        "from sklearn import tree\n",
        "from sklearn.ensemble import RandomForestRegressor\n",
        "\n",
        "#Train-test splits and cross validation\n",
        "from sklearn.model_selection import train_test_split, GridSearchCV, RandomizedSearchCV\n",
        "\n",
        "from scipy.stats import uniform, randint\n",
        "import xgboost as xgb\n",
        "\n",
        "# Model metrics and analysis\n",
        "from sklearn.metrics import  mean_squared_error, mean_absolute_error\n",
        "\n",
        "# plot tree model\n",
        "import graphviz"
      ]
    },
    {
      "cell_type": "markdown",
      "source": [
        "## Load clean data"
      ],
      "metadata": {
        "id": "gm4P0PathHWa"
      }
    },
    {
      "cell_type": "markdown",
      "source": [
        "##### $\\rightarrow$ Loading the clean data set from Github:"
      ],
      "metadata": {
        "id": "3f5ZlncEy6_-"
      }
    },
    {
      "cell_type": "code",
      "source": [
        "df = pd.read_csv('https://raw.githubusercontent.com/fawniechau/Homelessness/main/clean_homelessness_data-2.csv')"
      ],
      "metadata": {
        "id": "gUJV9NjM4nng"
      },
      "execution_count": 20,
      "outputs": []
    },
    {
      "cell_type": "markdown",
      "source": [
        "##### $\\rightarrow$ Review the contents of the data set."
      ],
      "metadata": {
        "id": "79uDfIiT4raQ"
      }
    },
    {
      "cell_type": "code",
      "source": [
        "df.head()"
      ],
      "metadata": {
        "colab": {
          "base_uri": "https://localhost:8080/",
          "height": 300
        },
        "id": "k5shQXMdHkcU",
        "outputId": "1c3852f4-a03b-4434-abf7-1d3e24267bff"
      },
      "execution_count": 21,
      "outputs": [
        {
          "output_type": "execute_result",
          "data": {
            "text/plain": [
              "   year coc_number  total_homeless  total_sheltered  total_unsheltered  \\\n",
              "0  2017     AK-500          1128.0            973.0              155.0   \n",
              "1  2017     AK-501           717.0            578.0              139.0   \n",
              "2  2017     AL-500          1092.0            875.0              217.0   \n",
              "3  2017     AL-501           606.0            341.0              265.0   \n",
              "4  2017     AL-502           155.0            133.0               22.0   \n",
              "\n",
              "   total_population  house_price_index_2009  log_median_rent  utility_costs  \\\n",
              "0            297376               11.743647         2.438863       8.500000   \n",
              "1            444146                9.042710         2.249699      14.607715   \n",
              "2            958302               -0.852477         1.862248      19.492331   \n",
              "3            622361               -8.507004         1.858394      18.899839   \n",
              "4            265264                0.751167         1.362010      18.803186   \n",
              "\n",
              "   percentage_owners_cost_burden_2016  ...  rate_homeless  rate_sheltered  \\\n",
              "0                           15.334315  ...      37.931777       32.719520   \n",
              "1                           13.311670  ...      16.143340       13.013739   \n",
              "2                           12.188416  ...      11.395155        9.130733   \n",
              "3                           12.539132  ...       9.737114        5.479135   \n",
              "4                           10.374694  ...       5.843235        5.013873   \n",
              "\n",
              "   rate_unsheltered  percent_black  percent_latino_hispanic  percent_asian  \\\n",
              "0          5.212257       0.053811                 0.089967       0.093952   \n",
              "1          3.129602       0.019530                 0.055727       0.040104   \n",
              "2          2.264422       0.331147                 0.040843       0.016632   \n",
              "3          4.257979       0.266807                 0.033816       0.016889   \n",
              "4          0.829362       0.090348                 0.042056       0.004901   \n",
              "\n",
              "   percent_pacific_islander  percent_population_0_19  \\\n",
              "0                  0.024387                 0.269161   \n",
              "1                  0.004593                 0.278562   \n",
              "2                  0.000311                 0.256410   \n",
              "3                  0.000382                 0.254735   \n",
              "4                  0.000471                 0.236545   \n",
              "\n",
              "   percent_population_65_plus  percent_female_population  \n",
              "0                    0.099140                   0.489629  \n",
              "1                    0.109905                   0.467752  \n",
              "2                    0.149058                   0.521677  \n",
              "3                    0.167126                   0.519669  \n",
              "4                    0.190708                   0.513937  \n",
              "\n",
              "[5 rows x 54 columns]"
            ],
            "text/html": [
              "\n",
              "  <div id=\"df-6b78751d-64fd-4ac5-bc0a-b88a5d2106f0\">\n",
              "    <div class=\"colab-df-container\">\n",
              "      <div>\n",
              "<style scoped>\n",
              "    .dataframe tbody tr th:only-of-type {\n",
              "        vertical-align: middle;\n",
              "    }\n",
              "\n",
              "    .dataframe tbody tr th {\n",
              "        vertical-align: top;\n",
              "    }\n",
              "\n",
              "    .dataframe thead th {\n",
              "        text-align: right;\n",
              "    }\n",
              "</style>\n",
              "<table border=\"1\" class=\"dataframe\">\n",
              "  <thead>\n",
              "    <tr style=\"text-align: right;\">\n",
              "      <th></th>\n",
              "      <th>year</th>\n",
              "      <th>coc_number</th>\n",
              "      <th>total_homeless</th>\n",
              "      <th>total_sheltered</th>\n",
              "      <th>total_unsheltered</th>\n",
              "      <th>total_population</th>\n",
              "      <th>house_price_index_2009</th>\n",
              "      <th>log_median_rent</th>\n",
              "      <th>utility_costs</th>\n",
              "      <th>percentage_owners_cost_burden_2016</th>\n",
              "      <th>...</th>\n",
              "      <th>rate_homeless</th>\n",
              "      <th>rate_sheltered</th>\n",
              "      <th>rate_unsheltered</th>\n",
              "      <th>percent_black</th>\n",
              "      <th>percent_latino_hispanic</th>\n",
              "      <th>percent_asian</th>\n",
              "      <th>percent_pacific_islander</th>\n",
              "      <th>percent_population_0_19</th>\n",
              "      <th>percent_population_65_plus</th>\n",
              "      <th>percent_female_population</th>\n",
              "    </tr>\n",
              "  </thead>\n",
              "  <tbody>\n",
              "    <tr>\n",
              "      <th>0</th>\n",
              "      <td>2017</td>\n",
              "      <td>AK-500</td>\n",
              "      <td>1128.0</td>\n",
              "      <td>973.0</td>\n",
              "      <td>155.0</td>\n",
              "      <td>297376</td>\n",
              "      <td>11.743647</td>\n",
              "      <td>2.438863</td>\n",
              "      <td>8.500000</td>\n",
              "      <td>15.334315</td>\n",
              "      <td>...</td>\n",
              "      <td>37.931777</td>\n",
              "      <td>32.719520</td>\n",
              "      <td>5.212257</td>\n",
              "      <td>0.053811</td>\n",
              "      <td>0.089967</td>\n",
              "      <td>0.093952</td>\n",
              "      <td>0.024387</td>\n",
              "      <td>0.269161</td>\n",
              "      <td>0.099140</td>\n",
              "      <td>0.489629</td>\n",
              "    </tr>\n",
              "    <tr>\n",
              "      <th>1</th>\n",
              "      <td>2017</td>\n",
              "      <td>AK-501</td>\n",
              "      <td>717.0</td>\n",
              "      <td>578.0</td>\n",
              "      <td>139.0</td>\n",
              "      <td>444146</td>\n",
              "      <td>9.042710</td>\n",
              "      <td>2.249699</td>\n",
              "      <td>14.607715</td>\n",
              "      <td>13.311670</td>\n",
              "      <td>...</td>\n",
              "      <td>16.143340</td>\n",
              "      <td>13.013739</td>\n",
              "      <td>3.129602</td>\n",
              "      <td>0.019530</td>\n",
              "      <td>0.055727</td>\n",
              "      <td>0.040104</td>\n",
              "      <td>0.004593</td>\n",
              "      <td>0.278562</td>\n",
              "      <td>0.109905</td>\n",
              "      <td>0.467752</td>\n",
              "    </tr>\n",
              "    <tr>\n",
              "      <th>2</th>\n",
              "      <td>2017</td>\n",
              "      <td>AL-500</td>\n",
              "      <td>1092.0</td>\n",
              "      <td>875.0</td>\n",
              "      <td>217.0</td>\n",
              "      <td>958302</td>\n",
              "      <td>-0.852477</td>\n",
              "      <td>1.862248</td>\n",
              "      <td>19.492331</td>\n",
              "      <td>12.188416</td>\n",
              "      <td>...</td>\n",
              "      <td>11.395155</td>\n",
              "      <td>9.130733</td>\n",
              "      <td>2.264422</td>\n",
              "      <td>0.331147</td>\n",
              "      <td>0.040843</td>\n",
              "      <td>0.016632</td>\n",
              "      <td>0.000311</td>\n",
              "      <td>0.256410</td>\n",
              "      <td>0.149058</td>\n",
              "      <td>0.521677</td>\n",
              "    </tr>\n",
              "    <tr>\n",
              "      <th>3</th>\n",
              "      <td>2017</td>\n",
              "      <td>AL-501</td>\n",
              "      <td>606.0</td>\n",
              "      <td>341.0</td>\n",
              "      <td>265.0</td>\n",
              "      <td>622361</td>\n",
              "      <td>-8.507004</td>\n",
              "      <td>1.858394</td>\n",
              "      <td>18.899839</td>\n",
              "      <td>12.539132</td>\n",
              "      <td>...</td>\n",
              "      <td>9.737114</td>\n",
              "      <td>5.479135</td>\n",
              "      <td>4.257979</td>\n",
              "      <td>0.266807</td>\n",
              "      <td>0.033816</td>\n",
              "      <td>0.016889</td>\n",
              "      <td>0.000382</td>\n",
              "      <td>0.254735</td>\n",
              "      <td>0.167126</td>\n",
              "      <td>0.519669</td>\n",
              "    </tr>\n",
              "    <tr>\n",
              "      <th>4</th>\n",
              "      <td>2017</td>\n",
              "      <td>AL-502</td>\n",
              "      <td>155.0</td>\n",
              "      <td>133.0</td>\n",
              "      <td>22.0</td>\n",
              "      <td>265264</td>\n",
              "      <td>0.751167</td>\n",
              "      <td>1.362010</td>\n",
              "      <td>18.803186</td>\n",
              "      <td>10.374694</td>\n",
              "      <td>...</td>\n",
              "      <td>5.843235</td>\n",
              "      <td>5.013873</td>\n",
              "      <td>0.829362</td>\n",
              "      <td>0.090348</td>\n",
              "      <td>0.042056</td>\n",
              "      <td>0.004901</td>\n",
              "      <td>0.000471</td>\n",
              "      <td>0.236545</td>\n",
              "      <td>0.190708</td>\n",
              "      <td>0.513937</td>\n",
              "    </tr>\n",
              "  </tbody>\n",
              "</table>\n",
              "<p>5 rows × 54 columns</p>\n",
              "</div>\n",
              "      <button class=\"colab-df-convert\" onclick=\"convertToInteractive('df-6b78751d-64fd-4ac5-bc0a-b88a5d2106f0')\"\n",
              "              title=\"Convert this dataframe to an interactive table.\"\n",
              "              style=\"display:none;\">\n",
              "        \n",
              "  <svg xmlns=\"http://www.w3.org/2000/svg\" height=\"24px\"viewBox=\"0 0 24 24\"\n",
              "       width=\"24px\">\n",
              "    <path d=\"M0 0h24v24H0V0z\" fill=\"none\"/>\n",
              "    <path d=\"M18.56 5.44l.94 2.06.94-2.06 2.06-.94-2.06-.94-.94-2.06-.94 2.06-2.06.94zm-11 1L8.5 8.5l.94-2.06 2.06-.94-2.06-.94L8.5 2.5l-.94 2.06-2.06.94zm10 10l.94 2.06.94-2.06 2.06-.94-2.06-.94-.94-2.06-.94 2.06-2.06.94z\"/><path d=\"M17.41 7.96l-1.37-1.37c-.4-.4-.92-.59-1.43-.59-.52 0-1.04.2-1.43.59L10.3 9.45l-7.72 7.72c-.78.78-.78 2.05 0 2.83L4 21.41c.39.39.9.59 1.41.59.51 0 1.02-.2 1.41-.59l7.78-7.78 2.81-2.81c.8-.78.8-2.07 0-2.86zM5.41 20L4 18.59l7.72-7.72 1.47 1.35L5.41 20z\"/>\n",
              "  </svg>\n",
              "      </button>\n",
              "      \n",
              "  <style>\n",
              "    .colab-df-container {\n",
              "      display:flex;\n",
              "      flex-wrap:wrap;\n",
              "      gap: 12px;\n",
              "    }\n",
              "\n",
              "    .colab-df-convert {\n",
              "      background-color: #E8F0FE;\n",
              "      border: none;\n",
              "      border-radius: 50%;\n",
              "      cursor: pointer;\n",
              "      display: none;\n",
              "      fill: #1967D2;\n",
              "      height: 32px;\n",
              "      padding: 0 0 0 0;\n",
              "      width: 32px;\n",
              "    }\n",
              "\n",
              "    .colab-df-convert:hover {\n",
              "      background-color: #E2EBFA;\n",
              "      box-shadow: 0px 1px 2px rgba(60, 64, 67, 0.3), 0px 1px 3px 1px rgba(60, 64, 67, 0.15);\n",
              "      fill: #174EA6;\n",
              "    }\n",
              "\n",
              "    [theme=dark] .colab-df-convert {\n",
              "      background-color: #3B4455;\n",
              "      fill: #D2E3FC;\n",
              "    }\n",
              "\n",
              "    [theme=dark] .colab-df-convert:hover {\n",
              "      background-color: #434B5C;\n",
              "      box-shadow: 0px 1px 3px 1px rgba(0, 0, 0, 0.15);\n",
              "      filter: drop-shadow(0px 1px 2px rgba(0, 0, 0, 0.3));\n",
              "      fill: #FFFFFF;\n",
              "    }\n",
              "  </style>\n",
              "\n",
              "      <script>\n",
              "        const buttonEl =\n",
              "          document.querySelector('#df-6b78751d-64fd-4ac5-bc0a-b88a5d2106f0 button.colab-df-convert');\n",
              "        buttonEl.style.display =\n",
              "          google.colab.kernel.accessAllowed ? 'block' : 'none';\n",
              "\n",
              "        async function convertToInteractive(key) {\n",
              "          const element = document.querySelector('#df-6b78751d-64fd-4ac5-bc0a-b88a5d2106f0');\n",
              "          const dataTable =\n",
              "            await google.colab.kernel.invokeFunction('convertToInteractive',\n",
              "                                                     [key], {});\n",
              "          if (!dataTable) return;\n",
              "\n",
              "          const docLinkHtml = 'Like what you see? Visit the ' +\n",
              "            '<a target=\"_blank\" href=https://colab.research.google.com/notebooks/data_table.ipynb>data table notebook</a>'\n",
              "            + ' to learn more about interactive tables.';\n",
              "          element.innerHTML = '';\n",
              "          dataTable['output_type'] = 'display_data';\n",
              "          await google.colab.output.renderOutput(dataTable, element);\n",
              "          const docLink = document.createElement('div');\n",
              "          docLink.innerHTML = docLinkHtml;\n",
              "          element.appendChild(docLink);\n",
              "        }\n",
              "      </script>\n",
              "    </div>\n",
              "  </div>\n",
              "  "
            ]
          },
          "metadata": {},
          "execution_count": 21
        }
      ]
    },
    {
      "cell_type": "code",
      "source": [
        "df.info()"
      ],
      "metadata": {
        "colab": {
          "base_uri": "https://localhost:8080/"
        },
        "id": "Wk1rn7eUI0IX",
        "outputId": "51115a31-4159-4d63-bd04-def6788bc9de"
      },
      "execution_count": 22,
      "outputs": [
        {
          "output_type": "stream",
          "name": "stdout",
          "text": [
            "<class 'pandas.core.frame.DataFrame'>\n",
            "RangeIndex: 374 entries, 0 to 373\n",
            "Data columns (total 54 columns):\n",
            " #   Column                                      Non-Null Count  Dtype  \n",
            "---  ------                                      --------------  -----  \n",
            " 0   year                                        374 non-null    int64  \n",
            " 1   coc_number                                  374 non-null    object \n",
            " 2   total_homeless                              374 non-null    float64\n",
            " 3   total_sheltered                             374 non-null    float64\n",
            " 4   total_unsheltered                           374 non-null    float64\n",
            " 5   total_population                            374 non-null    int64  \n",
            " 6   house_price_index_2009                      374 non-null    float64\n",
            " 7   log_median_rent                             374 non-null    float64\n",
            " 8   utility_costs                               374 non-null    float64\n",
            " 9   percentage_owners_cost_burden_2016          374 non-null    float64\n",
            " 10  percentage_renters_severe_cost_burden_2016  374 non-null    float64\n",
            " 11  share_renters_2016                          374 non-null    float64\n",
            " 12  rental_vacancy_rate                         374 non-null    float64\n",
            " 13  high_housing_density                        374 non-null    int64  \n",
            " 14  number_eviction                             374 non-null    int64  \n",
            " 15  share_overcrowded_units_2016                374 non-null    float64\n",
            " 16  city_or_urban                               374 non-null    int64  \n",
            " 17  suburban                                    374 non-null    int64  \n",
            " 18  rate_unemployment                           374 non-null    float64\n",
            " 19  gini_coefficient_2016                       374 non-null    float64\n",
            " 20  poverty_rate                                374 non-null    float64\n",
            " 21  share_HUD_units                             374 non-null    float64\n",
            " 22  HUD_unit_occupancy_rate                     374 non-null    float64\n",
            " 23  share_built_before_1940                     374 non-null    float64\n",
            " 24  total_black                                 374 non-null    int64  \n",
            " 25  total_latino_hispanic                       374 non-null    int64  \n",
            " 26  total_asian                                 374 non-null    int64  \n",
            " 27  total_pacific_islander                      374 non-null    int64  \n",
            " 28  total_population_0_19                       374 non-null    int64  \n",
            " 29  total_population_65_plus                    374 non-null    int64  \n",
            " 30  total_female_population                     374 non-null    int64  \n",
            " 31  net_migration                               374 non-null    int64  \n",
            " 32  migration_4_year_change                     374 non-null    float64\n",
            " 33  proportion_one_person_households            374 non-null    float64\n",
            " 34  share_under_18_with_single_parent           374 non-null    float64\n",
            " 35  share_veteran_status                        374 non-null    float64\n",
            " 36  share_no_bachelors                          374 non-null    float64\n",
            " 37  medicare_reimbursements_per_enrollee        374 non-null    float64\n",
            " 38  percentage_excessive_drinking               374 non-null    float64\n",
            " 39  average_Jan_temperature                     374 non-null    float64\n",
            " 40  average_summer_temperature                  374 non-null    float64\n",
            " 41  total_Jan_precipitation                     374 non-null    float64\n",
            " 42  total_annual_precipitation                  374 non-null    float64\n",
            " 43  census_region                               374 non-null    int64  \n",
            " 44  rate_homeless                               374 non-null    float64\n",
            " 45  rate_sheltered                              374 non-null    float64\n",
            " 46  rate_unsheltered                            374 non-null    float64\n",
            " 47  percent_black                               374 non-null    float64\n",
            " 48  percent_latino_hispanic                     374 non-null    float64\n",
            " 49  percent_asian                               374 non-null    float64\n",
            " 50  percent_pacific_islander                    374 non-null    float64\n",
            " 51  percent_population_0_19                     374 non-null    float64\n",
            " 52  percent_population_65_plus                  374 non-null    float64\n",
            " 53  percent_female_population                   374 non-null    float64\n",
            "dtypes: float64(38), int64(15), object(1)\n",
            "memory usage: 157.9+ KB\n"
          ]
        }
      ]
    },
    {
      "cell_type": "markdown",
      "source": [
        "## State your questions"
      ],
      "metadata": {
        "id": "bObnX61C95DL"
      }
    },
    {
      "cell_type": "markdown",
      "source": [
        "The overall problem is to determine whether and how housing market factors are related to homelessness. To answer this general problem, here are some questions we can follow up with an analysis: \n"
      ],
      "metadata": {
        "id": "RnmjIKMJ99dJ"
      }
    },
    {
      "cell_type": "markdown",
      "source": [
        "* How accurately can we predict homelessness rates?\n",
        "* Is there a difference in homelessness rates based on the type of district like in urban or suburban areas?\n",
        "\n"
      ],
      "metadata": {
        "id": "h8NWZuty-NJJ"
      }
    },
    {
      "cell_type": "markdown",
      "source": [
        "## Analysis Preparation\n"
      ],
      "metadata": {
        "id": "bkTA97Z7QgpH"
      }
    },
    {
      "cell_type": "code",
      "source": [
        "variable_remove = [\"total_sheltered\", \"total_unsheltered\", \"total_black\", \n",
        "                   \"total_latino_hispanic\", \"total_asian\", \"total_pacific_islander\", \n",
        "                   \"total_population_0_19\", \"total_population_65_plus\", \"total_female_population\", \n",
        "                   \"year\", \"rate_unsheltered\", \"rate_sheltered\"]"
      ],
      "metadata": {
        "id": "aRA7zzR1VS8n"
      },
      "execution_count": 23,
      "outputs": []
    },
    {
      "cell_type": "code",
      "source": [
        "df = df.drop(columns = variable_remove)"
      ],
      "metadata": {
        "id": "ZBtXOXdnVW13"
      },
      "execution_count": 24,
      "outputs": []
    },
    {
      "cell_type": "code",
      "source": [
        "# train test data \n",
        "X = df[df.columns.difference(['coc_number', 'rate_homeless', \"total_population\", \"total_homeless\"])]\n",
        "y = df['rate_homeless']"
      ],
      "metadata": {
        "id": "65sdjxNZU5lD"
      },
      "execution_count": 25,
      "outputs": []
    },
    {
      "cell_type": "code",
      "source": [
        "X.head()"
      ],
      "metadata": {
        "colab": {
          "base_uri": "https://localhost:8080/",
          "height": 300
        },
        "id": "nOziiNp-V8HM",
        "outputId": "c2fe60f0-85b2-41ae-e7b1-a21be52c030a"
      },
      "execution_count": 26,
      "outputs": [
        {
          "output_type": "execute_result",
          "data": {
            "text/plain": [
              "   HUD_unit_occupancy_rate  average_Jan_temperature  \\\n",
              "0                99.000000                13.800000   \n",
              "1                99.000000                13.800000   \n",
              "2                95.083710                50.995346   \n",
              "3                87.000801                57.893360   \n",
              "4                95.178665                48.382103   \n",
              "\n",
              "   average_summer_temperature  census_region  city_or_urban  \\\n",
              "0                   60.799999              4              1   \n",
              "1                   60.799999              4              0   \n",
              "2                   80.874313              3              0   \n",
              "3                   81.939949              3              1   \n",
              "4                   79.429985              3              0   \n",
              "\n",
              "   gini_coefficient_2016  high_housing_density  house_price_index_2009  \\\n",
              "0              42.010002                     0               11.743647   \n",
              "1              40.675701                     0                9.042710   \n",
              "2              47.633533                     0               -0.852477   \n",
              "3              46.713249                     0               -8.507004   \n",
              "4              45.165546                     0                0.751167   \n",
              "\n",
              "   log_median_rent  medicare_reimbursements_per_enrollee  ...  \\\n",
              "0         2.438863                              8.751520  ...   \n",
              "1         2.249699                              9.972870  ...   \n",
              "2         1.862248                              9.318163  ...   \n",
              "3         1.858394                              8.709522  ...   \n",
              "4         1.362010                              8.967195  ...   \n",
              "\n",
              "   share_built_before_1940  share_no_bachelors  share_overcrowded_units_2016  \\\n",
              "0                 0.366995           65.634148                      4.117406   \n",
              "1                 2.236410           75.560379                      9.294898   \n",
              "2                 7.191579           65.983711                      1.235925   \n",
              "3                 3.681716           74.543457                      1.712736   \n",
              "4                 5.150007           82.332657                      1.539988   \n",
              "\n",
              "   share_renters_2016  share_under_18_with_single_parent  \\\n",
              "0           39.727921                          23.379078   \n",
              "1           33.922234                          19.786558   \n",
              "2           31.769621                          32.077599   \n",
              "3           32.109203                          33.668129   \n",
              "4           27.708206                          27.959316   \n",
              "\n",
              "   share_veteran_status  suburban  total_Jan_precipitation  \\\n",
              "0             14.535126         0                 1.710000   \n",
              "1             14.142518         0                 1.710000   \n",
              "2              9.149558         1                 6.669876   \n",
              "3             11.647923         0                12.296666   \n",
              "4              9.135015         0                 5.462999   \n",
              "\n",
              "   total_annual_precipitation  utility_costs  \n",
              "0                   16.500000       8.500000  \n",
              "1                   16.500000      14.607715  \n",
              "2                   38.593376      19.492331  \n",
              "3                   58.519012      18.899839  \n",
              "4                   44.778618      18.803186  \n",
              "\n",
              "[5 rows x 38 columns]"
            ],
            "text/html": [
              "\n",
              "  <div id=\"df-cdd50c92-92fd-40d0-93b3-87b9491b312c\">\n",
              "    <div class=\"colab-df-container\">\n",
              "      <div>\n",
              "<style scoped>\n",
              "    .dataframe tbody tr th:only-of-type {\n",
              "        vertical-align: middle;\n",
              "    }\n",
              "\n",
              "    .dataframe tbody tr th {\n",
              "        vertical-align: top;\n",
              "    }\n",
              "\n",
              "    .dataframe thead th {\n",
              "        text-align: right;\n",
              "    }\n",
              "</style>\n",
              "<table border=\"1\" class=\"dataframe\">\n",
              "  <thead>\n",
              "    <tr style=\"text-align: right;\">\n",
              "      <th></th>\n",
              "      <th>HUD_unit_occupancy_rate</th>\n",
              "      <th>average_Jan_temperature</th>\n",
              "      <th>average_summer_temperature</th>\n",
              "      <th>census_region</th>\n",
              "      <th>city_or_urban</th>\n",
              "      <th>gini_coefficient_2016</th>\n",
              "      <th>high_housing_density</th>\n",
              "      <th>house_price_index_2009</th>\n",
              "      <th>log_median_rent</th>\n",
              "      <th>medicare_reimbursements_per_enrollee</th>\n",
              "      <th>...</th>\n",
              "      <th>share_built_before_1940</th>\n",
              "      <th>share_no_bachelors</th>\n",
              "      <th>share_overcrowded_units_2016</th>\n",
              "      <th>share_renters_2016</th>\n",
              "      <th>share_under_18_with_single_parent</th>\n",
              "      <th>share_veteran_status</th>\n",
              "      <th>suburban</th>\n",
              "      <th>total_Jan_precipitation</th>\n",
              "      <th>total_annual_precipitation</th>\n",
              "      <th>utility_costs</th>\n",
              "    </tr>\n",
              "  </thead>\n",
              "  <tbody>\n",
              "    <tr>\n",
              "      <th>0</th>\n",
              "      <td>99.000000</td>\n",
              "      <td>13.800000</td>\n",
              "      <td>60.799999</td>\n",
              "      <td>4</td>\n",
              "      <td>1</td>\n",
              "      <td>42.010002</td>\n",
              "      <td>0</td>\n",
              "      <td>11.743647</td>\n",
              "      <td>2.438863</td>\n",
              "      <td>8.751520</td>\n",
              "      <td>...</td>\n",
              "      <td>0.366995</td>\n",
              "      <td>65.634148</td>\n",
              "      <td>4.117406</td>\n",
              "      <td>39.727921</td>\n",
              "      <td>23.379078</td>\n",
              "      <td>14.535126</td>\n",
              "      <td>0</td>\n",
              "      <td>1.710000</td>\n",
              "      <td>16.500000</td>\n",
              "      <td>8.500000</td>\n",
              "    </tr>\n",
              "    <tr>\n",
              "      <th>1</th>\n",
              "      <td>99.000000</td>\n",
              "      <td>13.800000</td>\n",
              "      <td>60.799999</td>\n",
              "      <td>4</td>\n",
              "      <td>0</td>\n",
              "      <td>40.675701</td>\n",
              "      <td>0</td>\n",
              "      <td>9.042710</td>\n",
              "      <td>2.249699</td>\n",
              "      <td>9.972870</td>\n",
              "      <td>...</td>\n",
              "      <td>2.236410</td>\n",
              "      <td>75.560379</td>\n",
              "      <td>9.294898</td>\n",
              "      <td>33.922234</td>\n",
              "      <td>19.786558</td>\n",
              "      <td>14.142518</td>\n",
              "      <td>0</td>\n",
              "      <td>1.710000</td>\n",
              "      <td>16.500000</td>\n",
              "      <td>14.607715</td>\n",
              "    </tr>\n",
              "    <tr>\n",
              "      <th>2</th>\n",
              "      <td>95.083710</td>\n",
              "      <td>50.995346</td>\n",
              "      <td>80.874313</td>\n",
              "      <td>3</td>\n",
              "      <td>0</td>\n",
              "      <td>47.633533</td>\n",
              "      <td>0</td>\n",
              "      <td>-0.852477</td>\n",
              "      <td>1.862248</td>\n",
              "      <td>9.318163</td>\n",
              "      <td>...</td>\n",
              "      <td>7.191579</td>\n",
              "      <td>65.983711</td>\n",
              "      <td>1.235925</td>\n",
              "      <td>31.769621</td>\n",
              "      <td>32.077599</td>\n",
              "      <td>9.149558</td>\n",
              "      <td>1</td>\n",
              "      <td>6.669876</td>\n",
              "      <td>38.593376</td>\n",
              "      <td>19.492331</td>\n",
              "    </tr>\n",
              "    <tr>\n",
              "      <th>3</th>\n",
              "      <td>87.000801</td>\n",
              "      <td>57.893360</td>\n",
              "      <td>81.939949</td>\n",
              "      <td>3</td>\n",
              "      <td>1</td>\n",
              "      <td>46.713249</td>\n",
              "      <td>0</td>\n",
              "      <td>-8.507004</td>\n",
              "      <td>1.858394</td>\n",
              "      <td>8.709522</td>\n",
              "      <td>...</td>\n",
              "      <td>3.681716</td>\n",
              "      <td>74.543457</td>\n",
              "      <td>1.712736</td>\n",
              "      <td>32.109203</td>\n",
              "      <td>33.668129</td>\n",
              "      <td>11.647923</td>\n",
              "      <td>0</td>\n",
              "      <td>12.296666</td>\n",
              "      <td>58.519012</td>\n",
              "      <td>18.899839</td>\n",
              "    </tr>\n",
              "    <tr>\n",
              "      <th>4</th>\n",
              "      <td>95.178665</td>\n",
              "      <td>48.382103</td>\n",
              "      <td>79.429985</td>\n",
              "      <td>3</td>\n",
              "      <td>0</td>\n",
              "      <td>45.165546</td>\n",
              "      <td>0</td>\n",
              "      <td>0.751167</td>\n",
              "      <td>1.362010</td>\n",
              "      <td>8.967195</td>\n",
              "      <td>...</td>\n",
              "      <td>5.150007</td>\n",
              "      <td>82.332657</td>\n",
              "      <td>1.539988</td>\n",
              "      <td>27.708206</td>\n",
              "      <td>27.959316</td>\n",
              "      <td>9.135015</td>\n",
              "      <td>0</td>\n",
              "      <td>5.462999</td>\n",
              "      <td>44.778618</td>\n",
              "      <td>18.803186</td>\n",
              "    </tr>\n",
              "  </tbody>\n",
              "</table>\n",
              "<p>5 rows × 38 columns</p>\n",
              "</div>\n",
              "      <button class=\"colab-df-convert\" onclick=\"convertToInteractive('df-cdd50c92-92fd-40d0-93b3-87b9491b312c')\"\n",
              "              title=\"Convert this dataframe to an interactive table.\"\n",
              "              style=\"display:none;\">\n",
              "        \n",
              "  <svg xmlns=\"http://www.w3.org/2000/svg\" height=\"24px\"viewBox=\"0 0 24 24\"\n",
              "       width=\"24px\">\n",
              "    <path d=\"M0 0h24v24H0V0z\" fill=\"none\"/>\n",
              "    <path d=\"M18.56 5.44l.94 2.06.94-2.06 2.06-.94-2.06-.94-.94-2.06-.94 2.06-2.06.94zm-11 1L8.5 8.5l.94-2.06 2.06-.94-2.06-.94L8.5 2.5l-.94 2.06-2.06.94zm10 10l.94 2.06.94-2.06 2.06-.94-2.06-.94-.94-2.06-.94 2.06-2.06.94z\"/><path d=\"M17.41 7.96l-1.37-1.37c-.4-.4-.92-.59-1.43-.59-.52 0-1.04.2-1.43.59L10.3 9.45l-7.72 7.72c-.78.78-.78 2.05 0 2.83L4 21.41c.39.39.9.59 1.41.59.51 0 1.02-.2 1.41-.59l7.78-7.78 2.81-2.81c.8-.78.8-2.07 0-2.86zM5.41 20L4 18.59l7.72-7.72 1.47 1.35L5.41 20z\"/>\n",
              "  </svg>\n",
              "      </button>\n",
              "      \n",
              "  <style>\n",
              "    .colab-df-container {\n",
              "      display:flex;\n",
              "      flex-wrap:wrap;\n",
              "      gap: 12px;\n",
              "    }\n",
              "\n",
              "    .colab-df-convert {\n",
              "      background-color: #E8F0FE;\n",
              "      border: none;\n",
              "      border-radius: 50%;\n",
              "      cursor: pointer;\n",
              "      display: none;\n",
              "      fill: #1967D2;\n",
              "      height: 32px;\n",
              "      padding: 0 0 0 0;\n",
              "      width: 32px;\n",
              "    }\n",
              "\n",
              "    .colab-df-convert:hover {\n",
              "      background-color: #E2EBFA;\n",
              "      box-shadow: 0px 1px 2px rgba(60, 64, 67, 0.3), 0px 1px 3px 1px rgba(60, 64, 67, 0.15);\n",
              "      fill: #174EA6;\n",
              "    }\n",
              "\n",
              "    [theme=dark] .colab-df-convert {\n",
              "      background-color: #3B4455;\n",
              "      fill: #D2E3FC;\n",
              "    }\n",
              "\n",
              "    [theme=dark] .colab-df-convert:hover {\n",
              "      background-color: #434B5C;\n",
              "      box-shadow: 0px 1px 3px 1px rgba(0, 0, 0, 0.15);\n",
              "      filter: drop-shadow(0px 1px 2px rgba(0, 0, 0, 0.3));\n",
              "      fill: #FFFFFF;\n",
              "    }\n",
              "  </style>\n",
              "\n",
              "      <script>\n",
              "        const buttonEl =\n",
              "          document.querySelector('#df-cdd50c92-92fd-40d0-93b3-87b9491b312c button.colab-df-convert');\n",
              "        buttonEl.style.display =\n",
              "          google.colab.kernel.accessAllowed ? 'block' : 'none';\n",
              "\n",
              "        async function convertToInteractive(key) {\n",
              "          const element = document.querySelector('#df-cdd50c92-92fd-40d0-93b3-87b9491b312c');\n",
              "          const dataTable =\n",
              "            await google.colab.kernel.invokeFunction('convertToInteractive',\n",
              "                                                     [key], {});\n",
              "          if (!dataTable) return;\n",
              "\n",
              "          const docLinkHtml = 'Like what you see? Visit the ' +\n",
              "            '<a target=\"_blank\" href=https://colab.research.google.com/notebooks/data_table.ipynb>data table notebook</a>'\n",
              "            + ' to learn more about interactive tables.';\n",
              "          element.innerHTML = '';\n",
              "          dataTable['output_type'] = 'display_data';\n",
              "          await google.colab.output.renderOutput(dataTable, element);\n",
              "          const docLink = document.createElement('div');\n",
              "          docLink.innerHTML = docLinkHtml;\n",
              "          element.appendChild(docLink);\n",
              "        }\n",
              "      </script>\n",
              "    </div>\n",
              "  </div>\n",
              "  "
            ]
          },
          "metadata": {},
          "execution_count": 26
        }
      ]
    },
    {
      "cell_type": "code",
      "source": [
        "X.columns"
      ],
      "metadata": {
        "colab": {
          "base_uri": "https://localhost:8080/"
        },
        "id": "rLHFcLYAylok",
        "outputId": "1bff3a26-2653-470d-e5af-22b9e6e10b48"
      },
      "execution_count": 27,
      "outputs": [
        {
          "output_type": "execute_result",
          "data": {
            "text/plain": [
              "Index(['HUD_unit_occupancy_rate', 'average_Jan_temperature',\n",
              "       'average_summer_temperature', 'census_region', 'city_or_urban',\n",
              "       'gini_coefficient_2016', 'high_housing_density',\n",
              "       'house_price_index_2009', 'log_median_rent',\n",
              "       'medicare_reimbursements_per_enrollee', 'migration_4_year_change',\n",
              "       'net_migration', 'number_eviction', 'percent_asian', 'percent_black',\n",
              "       'percent_female_population', 'percent_latino_hispanic',\n",
              "       'percent_pacific_islander', 'percent_population_0_19',\n",
              "       'percent_population_65_plus', 'percentage_excessive_drinking',\n",
              "       'percentage_owners_cost_burden_2016',\n",
              "       'percentage_renters_severe_cost_burden_2016', 'poverty_rate',\n",
              "       'proportion_one_person_households', 'rate_unemployment',\n",
              "       'rental_vacancy_rate', 'share_HUD_units', 'share_built_before_1940',\n",
              "       'share_no_bachelors', 'share_overcrowded_units_2016',\n",
              "       'share_renters_2016', 'share_under_18_with_single_parent',\n",
              "       'share_veteran_status', 'suburban', 'total_Jan_precipitation',\n",
              "       'total_annual_precipitation', 'utility_costs'],\n",
              "      dtype='object')"
            ]
          },
          "metadata": {},
          "execution_count": 27
        }
      ]
    },
    {
      "cell_type": "markdown",
      "source": [
        "## Scaling the Data Frame"
      ],
      "metadata": {
        "id": "YUVZ57a-zFHU"
      }
    },
    {
      "cell_type": "code",
      "source": [
        "# define scaler using only training data \n",
        "scaler = RobustScaler().fit(X)"
      ],
      "metadata": {
        "id": "FDRxWJ1DW233"
      },
      "execution_count": 28,
      "outputs": []
    },
    {
      "cell_type": "code",
      "source": [
        "# perform scaling transform on predictors \n",
        "X = pd.DataFrame(data=scaler.transform(X), columns=X.columns.values, index=X.index)"
      ],
      "metadata": {
        "id": "z_SHzAZyXJ_H"
      },
      "execution_count": 29,
      "outputs": []
    },
    {
      "cell_type": "markdown",
      "source": [
        "## Fitting the Model"
      ],
      "metadata": {
        "id": "HPlU_UdEzz1f"
      }
    },
    {
      "cell_type": "code",
      "source": [
        "#fit the model\n",
        "model = sm.OLS(y, sm.add_constant(X)).fit()\n",
        "print(model.summary())"
      ],
      "metadata": {
        "colab": {
          "base_uri": "https://localhost:8080/"
        },
        "id": "fWh9U6ydz2Vc",
        "outputId": "5bbda954-e04d-41d1-949d-86fde0e04486"
      },
      "execution_count": 30,
      "outputs": [
        {
          "output_type": "stream",
          "name": "stdout",
          "text": [
            "                            OLS Regression Results                            \n",
            "==============================================================================\n",
            "Dep. Variable:          rate_homeless   R-squared:                       0.599\n",
            "Model:                            OLS   Adj. R-squared:                  0.554\n",
            "Method:                 Least Squares   F-statistic:                     13.18\n",
            "Date:                Tue, 06 Jun 2023   Prob (F-statistic):           1.46e-46\n",
            "Time:                        06:23:24   Log-Likelihood:                -1384.7\n",
            "No. Observations:                 374   AIC:                             2847.\n",
            "Df Residuals:                     335   BIC:                             3001.\n",
            "Df Model:                          38                                         \n",
            "Covariance Type:            nonrobust                                         \n",
            "==============================================================================================================\n",
            "                                                 coef    std err          t      P>|t|      [0.025      0.975]\n",
            "--------------------------------------------------------------------------------------------------------------\n",
            "const                                         17.5468      1.789      9.807      0.000      14.027      21.066\n",
            "HUD_unit_occupancy_rate                       -0.8408      0.716     -1.175      0.241      -2.249       0.567\n",
            "average_Jan_temperature                        1.5088      2.496      0.604      0.546      -3.401       6.419\n",
            "average_summer_temperature                     2.4472      2.197      1.114      0.266      -1.874       6.768\n",
            "census_region                                  4.7773      1.137      4.203      0.000       2.541       7.013\n",
            "city_or_urban                                 -0.5593      2.159     -0.259      0.796      -4.806       3.687\n",
            "gini_coefficient_2016                          0.4224      1.361      0.310      0.756      -2.254       3.099\n",
            "high_housing_density                          -2.5196      1.969     -1.280      0.202      -6.392       1.353\n",
            "house_price_index_2009                         0.6372      1.006      0.633      0.527      -1.342       2.616\n",
            "log_median_rent                                9.0957      2.947      3.087      0.002       3.299      14.892\n",
            "medicare_reimbursements_per_enrollee          -0.8284      1.217     -0.681      0.496      -3.222       1.565\n",
            "migration_4_year_change                        2.1086      0.674      3.130      0.002       0.783       3.434\n",
            "net_migration                                 -0.6578      0.332     -1.980      0.049      -1.311      -0.004\n",
            "number_eviction                                0.6613      0.368      1.796      0.073      -0.063       1.385\n",
            "percent_asian                                 -1.4333      0.700     -2.048      0.041      -2.810      -0.057\n",
            "percent_black                                 -5.0592      1.757     -2.880      0.004      -8.515      -1.604\n",
            "percent_female_population                     -1.6627      1.133     -1.467      0.143      -3.892       0.567\n",
            "percent_latino_hispanic                       -1.9116      1.227     -1.558      0.120      -4.325       0.501\n",
            "percent_pacific_islander                       0.1572      0.096      1.635      0.103      -0.032       0.346\n",
            "percent_population_0_19                        0.8275      1.599      0.518      0.605      -2.317       3.972\n",
            "percent_population_65_plus                     0.4240      1.945      0.218      0.828      -3.402       4.250\n",
            "percentage_excessive_drinking                  1.7717      1.091      1.624      0.105      -0.375       3.918\n",
            "percentage_owners_cost_burden_2016             0.7082      2.074      0.341      0.733      -3.372       4.789\n",
            "percentage_renters_severe_cost_burden_2016     1.1219      1.236      0.908      0.365      -1.309       3.553\n",
            "poverty_rate                                  -3.3849      2.522     -1.342      0.181      -8.347       1.577\n",
            "proportion_one_person_households               6.0198      1.739      3.461      0.001       2.598       9.441\n",
            "rate_unemployment                              1.3845      0.727      1.905      0.058      -0.045       2.814\n",
            "rental_vacancy_rate                            0.1532      0.804      0.191      0.849      -1.427       1.734\n",
            "share_HUD_units                                5.0737      1.442      3.520      0.000       2.238       7.909\n",
            "share_built_before_1940                        3.6013      1.677      2.147      0.032       0.302       6.900\n",
            "share_no_bachelors                             1.1199      2.555      0.438      0.661      -3.907       6.147\n",
            "share_overcrowded_units_2016                   2.6458      1.236      2.141      0.033       0.215       5.077\n",
            "share_renters_2016                             0.7150      2.174      0.329      0.742      -3.562       4.992\n",
            "share_under_18_with_single_parent              2.5097      2.399      1.046      0.296      -2.209       7.229\n",
            "share_veteran_status                          -0.9875      1.132     -0.873      0.384      -3.214       1.239\n",
            "suburban                                      -2.9524      1.972     -1.497      0.135      -6.831       0.926\n",
            "total_Jan_precipitation                        1.4094      0.476      2.962      0.003       0.473       2.345\n",
            "total_annual_precipitation                     0.7872      0.663      1.188      0.236      -0.516       2.091\n",
            "utility_costs                                 -0.8505      1.272     -0.669      0.504      -3.353       1.652\n",
            "==============================================================================\n",
            "Omnibus:                      211.818   Durbin-Watson:                   1.807\n",
            "Prob(Omnibus):                  0.000   Jarque-Bera (JB):             3563.717\n",
            "Skew:                           1.998   Prob(JB):                         0.00\n",
            "Kurtosis:                      17.585   Cond. No.                         69.2\n",
            "==============================================================================\n",
            "\n",
            "Notes:\n",
            "[1] Standard Errors assume that the covariance matrix of the errors is correctly specified.\n"
          ]
        }
      ]
    },
    {
      "cell_type": "markdown",
      "source": [
        "## Train Test Split"
      ],
      "metadata": {
        "id": "xlZYuVEq1GSL"
      }
    },
    {
      "cell_type": "markdown",
      "source": [
        "Here we are splitting the data into training and testing sets, keeping 20% of the data for the test set. "
      ],
      "metadata": {
        "id": "HY28XAhm1Kmw"
      }
    },
    {
      "cell_type": "code",
      "source": [
        "X_train, X_test, y_train, y_test = train_test_split(X, y, test_size=.2, random_state = 8647)"
      ],
      "metadata": {
        "id": "BkhINlK21Rl8"
      },
      "execution_count": 31,
      "outputs": []
    },
    {
      "cell_type": "code",
      "source": [
        "# Examining the shape of the training data matrix of predictors\n",
        "print(X_train.shape, np.round(X_train.shape[0]/X_train.shape[1]))"
      ],
      "metadata": {
        "colab": {
          "base_uri": "https://localhost:8080/"
        },
        "id": "r7d5JklE1csK",
        "outputId": "7cee8fcc-fda1-4006-99a3-36aae1e6e9da"
      },
      "execution_count": 32,
      "outputs": [
        {
          "output_type": "stream",
          "name": "stdout",
          "text": [
            "(299, 38) 8.0\n"
          ]
        }
      ]
    },
    {
      "cell_type": "code",
      "source": [
        "scaler = RobustScaler().fit(X_train)"
      ],
      "metadata": {
        "id": "py9crzRT2QwJ"
      },
      "execution_count": 33,
      "outputs": []
    },
    {
      "cell_type": "code",
      "source": [
        "# Performing scaling transformation on the predictors\n",
        "\n",
        "X_train = scaler.transform(X_train)\n",
        "X_test = scaler.transform(X_test)"
      ],
      "metadata": {
        "id": "z8hxwgky1soC"
      },
      "execution_count": 34,
      "outputs": []
    },
    {
      "cell_type": "code",
      "source": [
        "#fit the model\n",
        "model = sm.OLS(y_train, sm.add_constant(X_train)).fit() \n",
        "print(model.summary())"
      ],
      "metadata": {
        "colab": {
          "base_uri": "https://localhost:8080/"
        },
        "id": "1Fv5GfAD2aGA",
        "outputId": "9683f035-3a20-4690-a428-f37b744d5767"
      },
      "execution_count": 35,
      "outputs": [
        {
          "output_type": "stream",
          "name": "stdout",
          "text": [
            "                            OLS Regression Results                            \n",
            "==============================================================================\n",
            "Dep. Variable:          rate_homeless   R-squared:                       0.617\n",
            "Model:                            OLS   Adj. R-squared:                  0.561\n",
            "Method:                 Least Squares   F-statistic:                     11.02\n",
            "Date:                Tue, 06 Jun 2023   Prob (F-statistic):           7.47e-36\n",
            "Time:                        06:23:24   Log-Likelihood:                -1106.9\n",
            "No. Observations:                 299   AIC:                             2292.\n",
            "Df Residuals:                     260   BIC:                             2436.\n",
            "Df Model:                          38                                         \n",
            "Covariance Type:            nonrobust                                         \n",
            "==============================================================================\n",
            "                 coef    std err          t      P>|t|      [0.025      0.975]\n",
            "------------------------------------------------------------------------------\n",
            "const         17.2113      2.150      8.006      0.000      12.978      21.445\n",
            "x1            -1.7970      0.860     -2.090      0.038      -3.490      -0.104\n",
            "x2             0.3488      2.908      0.120      0.905      -5.378       6.076\n",
            "x3             2.6039      2.456      1.060      0.290      -2.233       7.441\n",
            "x4             5.3315      1.301      4.097      0.000       2.769       7.894\n",
            "x5             0.4625      2.459      0.188      0.851      -4.379       5.304\n",
            "x6            -0.3859      1.669     -0.231      0.817      -3.672       2.900\n",
            "x7            -2.1067      2.210     -0.953      0.341      -6.459       2.245\n",
            "x8             0.3623      1.210      0.299      0.765      -2.021       2.746\n",
            "x9             9.5420      3.519      2.712      0.007       2.613      16.471\n",
            "x10           -0.7592      1.420     -0.535      0.593      -3.556       2.038\n",
            "x11            2.5753      0.800      3.218      0.001       0.999       4.151\n",
            "x12           -0.7784      0.486     -1.603      0.110      -1.735       0.178\n",
            "x13            0.8052      0.401      2.008      0.046       0.016       1.595\n",
            "x14           -1.6729      0.751     -2.228      0.027      -3.151      -0.195\n",
            "x15           -4.4084      1.897     -2.324      0.021      -8.144      -0.673\n",
            "x16           -1.1109      1.393     -0.798      0.426      -3.853       1.632\n",
            "x17           -1.2566      1.394     -0.902      0.368      -4.001       1.488\n",
            "x18            0.2774      0.142      1.954      0.052      -0.002       0.557\n",
            "x19            1.5661      1.878      0.834      0.405      -2.132       5.264\n",
            "x20            2.3622      2.431      0.972      0.332      -2.425       7.149\n",
            "x21            1.1883      1.234      0.963      0.336      -1.241       3.618\n",
            "x22            0.4540      2.294      0.198      0.843      -4.062       4.970\n",
            "x23            1.1359      1.361      0.835      0.405      -1.544       3.816\n",
            "x24           -3.4121      2.845     -1.200      0.231      -9.013       2.189\n",
            "x25            5.4499      1.863      2.926      0.004       1.782       9.118\n",
            "x26            1.8709      0.782      2.394      0.017       0.332       3.410\n",
            "x27           -1.0349      0.979     -1.057      0.291      -2.963       0.893\n",
            "x28            4.8397      1.682      2.877      0.004       1.528       8.152\n",
            "x29            4.3928      2.017      2.177      0.030       0.420       8.365\n",
            "x30           -0.2819      3.041     -0.093      0.926      -6.271       5.707\n",
            "x31            2.1794      1.401      1.555      0.121      -0.580       4.939\n",
            "x32            0.6807      2.682      0.254      0.800      -4.600       5.962\n",
            "x33            3.5849      2.774      1.292      0.197      -1.877       9.047\n",
            "x34           -0.9292      1.245     -0.746      0.456      -3.381       1.523\n",
            "x35           -3.9610      2.315     -1.711      0.088      -8.521       0.598\n",
            "x36            1.6339      0.517      3.163      0.002       0.617       2.651\n",
            "x37            0.9695      0.674      1.439      0.151      -0.357       2.296\n",
            "x38           -1.5032      1.374     -1.094      0.275      -4.208       1.201\n",
            "==============================================================================\n",
            "Omnibus:                      152.458   Durbin-Watson:                   1.719\n",
            "Prob(Omnibus):                  0.000   Jarque-Bera (JB):             1991.584\n",
            "Skew:                           1.737   Prob(JB):                         0.00\n",
            "Kurtosis:                      15.157   Cond. No.                         55.2\n",
            "==============================================================================\n",
            "\n",
            "Notes:\n",
            "[1] Standard Errors assume that the covariance matrix of the errors is correctly specified.\n"
          ]
        }
      ]
    },
    {
      "cell_type": "code",
      "source": [
        "# Displaying the predictor name and the p-value of the estimated coefficient\n",
        "variables = X.columns\n",
        "variables = np.insert(variables, 0, 'intercept')\n",
        "\n",
        "results = pd.DataFrame(index = variables, \n",
        "             data = {'p-value':model.pvalues.values.round(3), \n",
        "                     'significant':model.pvalues.values < 0.05,\n",
        "                     'coefficient':model.params.values.round(2),\n",
        "                     'abs_coefficient':np.abs(model.params.values.round(2))})\n",
        "\n",
        "results.sort_values(by = 'abs_coefficient', ascending=False)"
      ],
      "metadata": {
        "colab": {
          "base_uri": "https://localhost:8080/",
          "height": 1000
        },
        "id": "_dEq_uumY9Cp",
        "outputId": "066baca2-7c8a-4763-9568-2c370b35f91a"
      },
      "execution_count": 36,
      "outputs": [
        {
          "output_type": "execute_result",
          "data": {
            "text/plain": [
              "                                            p-value  significant  coefficient  \\\n",
              "intercept                                     0.000         True        17.21   \n",
              "log_median_rent                               0.007         True         9.54   \n",
              "proportion_one_person_households              0.004         True         5.45   \n",
              "census_region                                 0.000         True         5.33   \n",
              "share_HUD_units                               0.004         True         4.84   \n",
              "percent_black                                 0.021         True        -4.41   \n",
              "share_built_before_1940                       0.030         True         4.39   \n",
              "suburban                                      0.088        False        -3.96   \n",
              "share_under_18_with_single_parent             0.197        False         3.58   \n",
              "poverty_rate                                  0.231        False        -3.41   \n",
              "average_summer_temperature                    0.290        False         2.60   \n",
              "migration_4_year_change                       0.001         True         2.58   \n",
              "percent_population_65_plus                    0.332        False         2.36   \n",
              "share_overcrowded_units_2016                  0.121        False         2.18   \n",
              "high_housing_density                          0.341        False        -2.11   \n",
              "rate_unemployment                             0.017         True         1.87   \n",
              "HUD_unit_occupancy_rate                       0.038         True        -1.80   \n",
              "percent_asian                                 0.027         True        -1.67   \n",
              "total_Jan_precipitation                       0.002         True         1.63   \n",
              "percent_population_0_19                       0.405        False         1.57   \n",
              "utility_costs                                 0.275        False        -1.50   \n",
              "percent_latino_hispanic                       0.368        False        -1.26   \n",
              "percentage_excessive_drinking                 0.336        False         1.19   \n",
              "percentage_renters_severe_cost_burden_2016    0.405        False         1.14   \n",
              "percent_female_population                     0.426        False        -1.11   \n",
              "rental_vacancy_rate                           0.291        False        -1.03   \n",
              "total_annual_precipitation                    0.151        False         0.97   \n",
              "share_veteran_status                          0.456        False        -0.93   \n",
              "number_eviction                               0.046         True         0.81   \n",
              "net_migration                                 0.110        False        -0.78   \n",
              "medicare_reimbursements_per_enrollee          0.593        False        -0.76   \n",
              "share_renters_2016                            0.800        False         0.68   \n",
              "city_or_urban                                 0.851        False         0.46   \n",
              "percentage_owners_cost_burden_2016            0.843        False         0.45   \n",
              "gini_coefficient_2016                         0.817        False        -0.39   \n",
              "house_price_index_2009                        0.765        False         0.36   \n",
              "average_Jan_temperature                       0.905        False         0.35   \n",
              "share_no_bachelors                            0.926        False        -0.28   \n",
              "percent_pacific_islander                      0.052        False         0.28   \n",
              "\n",
              "                                            abs_coefficient  \n",
              "intercept                                             17.21  \n",
              "log_median_rent                                        9.54  \n",
              "proportion_one_person_households                       5.45  \n",
              "census_region                                          5.33  \n",
              "share_HUD_units                                        4.84  \n",
              "percent_black                                          4.41  \n",
              "share_built_before_1940                                4.39  \n",
              "suburban                                               3.96  \n",
              "share_under_18_with_single_parent                      3.58  \n",
              "poverty_rate                                           3.41  \n",
              "average_summer_temperature                             2.60  \n",
              "migration_4_year_change                                2.58  \n",
              "percent_population_65_plus                             2.36  \n",
              "share_overcrowded_units_2016                           2.18  \n",
              "high_housing_density                                   2.11  \n",
              "rate_unemployment                                      1.87  \n",
              "HUD_unit_occupancy_rate                                1.80  \n",
              "percent_asian                                          1.67  \n",
              "total_Jan_precipitation                                1.63  \n",
              "percent_population_0_19                                1.57  \n",
              "utility_costs                                          1.50  \n",
              "percent_latino_hispanic                                1.26  \n",
              "percentage_excessive_drinking                          1.19  \n",
              "percentage_renters_severe_cost_burden_2016             1.14  \n",
              "percent_female_population                              1.11  \n",
              "rental_vacancy_rate                                    1.03  \n",
              "total_annual_precipitation                             0.97  \n",
              "share_veteran_status                                   0.93  \n",
              "number_eviction                                        0.81  \n",
              "net_migration                                          0.78  \n",
              "medicare_reimbursements_per_enrollee                   0.76  \n",
              "share_renters_2016                                     0.68  \n",
              "city_or_urban                                          0.46  \n",
              "percentage_owners_cost_burden_2016                     0.45  \n",
              "gini_coefficient_2016                                  0.39  \n",
              "house_price_index_2009                                 0.36  \n",
              "average_Jan_temperature                                0.35  \n",
              "share_no_bachelors                                     0.28  \n",
              "percent_pacific_islander                               0.28  "
            ],
            "text/html": [
              "\n",
              "  <div id=\"df-0d8bac9f-6db4-4a5f-9c8b-9fe904826d51\">\n",
              "    <div class=\"colab-df-container\">\n",
              "      <div>\n",
              "<style scoped>\n",
              "    .dataframe tbody tr th:only-of-type {\n",
              "        vertical-align: middle;\n",
              "    }\n",
              "\n",
              "    .dataframe tbody tr th {\n",
              "        vertical-align: top;\n",
              "    }\n",
              "\n",
              "    .dataframe thead th {\n",
              "        text-align: right;\n",
              "    }\n",
              "</style>\n",
              "<table border=\"1\" class=\"dataframe\">\n",
              "  <thead>\n",
              "    <tr style=\"text-align: right;\">\n",
              "      <th></th>\n",
              "      <th>p-value</th>\n",
              "      <th>significant</th>\n",
              "      <th>coefficient</th>\n",
              "      <th>abs_coefficient</th>\n",
              "    </tr>\n",
              "  </thead>\n",
              "  <tbody>\n",
              "    <tr>\n",
              "      <th>intercept</th>\n",
              "      <td>0.000</td>\n",
              "      <td>True</td>\n",
              "      <td>17.21</td>\n",
              "      <td>17.21</td>\n",
              "    </tr>\n",
              "    <tr>\n",
              "      <th>log_median_rent</th>\n",
              "      <td>0.007</td>\n",
              "      <td>True</td>\n",
              "      <td>9.54</td>\n",
              "      <td>9.54</td>\n",
              "    </tr>\n",
              "    <tr>\n",
              "      <th>proportion_one_person_households</th>\n",
              "      <td>0.004</td>\n",
              "      <td>True</td>\n",
              "      <td>5.45</td>\n",
              "      <td>5.45</td>\n",
              "    </tr>\n",
              "    <tr>\n",
              "      <th>census_region</th>\n",
              "      <td>0.000</td>\n",
              "      <td>True</td>\n",
              "      <td>5.33</td>\n",
              "      <td>5.33</td>\n",
              "    </tr>\n",
              "    <tr>\n",
              "      <th>share_HUD_units</th>\n",
              "      <td>0.004</td>\n",
              "      <td>True</td>\n",
              "      <td>4.84</td>\n",
              "      <td>4.84</td>\n",
              "    </tr>\n",
              "    <tr>\n",
              "      <th>percent_black</th>\n",
              "      <td>0.021</td>\n",
              "      <td>True</td>\n",
              "      <td>-4.41</td>\n",
              "      <td>4.41</td>\n",
              "    </tr>\n",
              "    <tr>\n",
              "      <th>share_built_before_1940</th>\n",
              "      <td>0.030</td>\n",
              "      <td>True</td>\n",
              "      <td>4.39</td>\n",
              "      <td>4.39</td>\n",
              "    </tr>\n",
              "    <tr>\n",
              "      <th>suburban</th>\n",
              "      <td>0.088</td>\n",
              "      <td>False</td>\n",
              "      <td>-3.96</td>\n",
              "      <td>3.96</td>\n",
              "    </tr>\n",
              "    <tr>\n",
              "      <th>share_under_18_with_single_parent</th>\n",
              "      <td>0.197</td>\n",
              "      <td>False</td>\n",
              "      <td>3.58</td>\n",
              "      <td>3.58</td>\n",
              "    </tr>\n",
              "    <tr>\n",
              "      <th>poverty_rate</th>\n",
              "      <td>0.231</td>\n",
              "      <td>False</td>\n",
              "      <td>-3.41</td>\n",
              "      <td>3.41</td>\n",
              "    </tr>\n",
              "    <tr>\n",
              "      <th>average_summer_temperature</th>\n",
              "      <td>0.290</td>\n",
              "      <td>False</td>\n",
              "      <td>2.60</td>\n",
              "      <td>2.60</td>\n",
              "    </tr>\n",
              "    <tr>\n",
              "      <th>migration_4_year_change</th>\n",
              "      <td>0.001</td>\n",
              "      <td>True</td>\n",
              "      <td>2.58</td>\n",
              "      <td>2.58</td>\n",
              "    </tr>\n",
              "    <tr>\n",
              "      <th>percent_population_65_plus</th>\n",
              "      <td>0.332</td>\n",
              "      <td>False</td>\n",
              "      <td>2.36</td>\n",
              "      <td>2.36</td>\n",
              "    </tr>\n",
              "    <tr>\n",
              "      <th>share_overcrowded_units_2016</th>\n",
              "      <td>0.121</td>\n",
              "      <td>False</td>\n",
              "      <td>2.18</td>\n",
              "      <td>2.18</td>\n",
              "    </tr>\n",
              "    <tr>\n",
              "      <th>high_housing_density</th>\n",
              "      <td>0.341</td>\n",
              "      <td>False</td>\n",
              "      <td>-2.11</td>\n",
              "      <td>2.11</td>\n",
              "    </tr>\n",
              "    <tr>\n",
              "      <th>rate_unemployment</th>\n",
              "      <td>0.017</td>\n",
              "      <td>True</td>\n",
              "      <td>1.87</td>\n",
              "      <td>1.87</td>\n",
              "    </tr>\n",
              "    <tr>\n",
              "      <th>HUD_unit_occupancy_rate</th>\n",
              "      <td>0.038</td>\n",
              "      <td>True</td>\n",
              "      <td>-1.80</td>\n",
              "      <td>1.80</td>\n",
              "    </tr>\n",
              "    <tr>\n",
              "      <th>percent_asian</th>\n",
              "      <td>0.027</td>\n",
              "      <td>True</td>\n",
              "      <td>-1.67</td>\n",
              "      <td>1.67</td>\n",
              "    </tr>\n",
              "    <tr>\n",
              "      <th>total_Jan_precipitation</th>\n",
              "      <td>0.002</td>\n",
              "      <td>True</td>\n",
              "      <td>1.63</td>\n",
              "      <td>1.63</td>\n",
              "    </tr>\n",
              "    <tr>\n",
              "      <th>percent_population_0_19</th>\n",
              "      <td>0.405</td>\n",
              "      <td>False</td>\n",
              "      <td>1.57</td>\n",
              "      <td>1.57</td>\n",
              "    </tr>\n",
              "    <tr>\n",
              "      <th>utility_costs</th>\n",
              "      <td>0.275</td>\n",
              "      <td>False</td>\n",
              "      <td>-1.50</td>\n",
              "      <td>1.50</td>\n",
              "    </tr>\n",
              "    <tr>\n",
              "      <th>percent_latino_hispanic</th>\n",
              "      <td>0.368</td>\n",
              "      <td>False</td>\n",
              "      <td>-1.26</td>\n",
              "      <td>1.26</td>\n",
              "    </tr>\n",
              "    <tr>\n",
              "      <th>percentage_excessive_drinking</th>\n",
              "      <td>0.336</td>\n",
              "      <td>False</td>\n",
              "      <td>1.19</td>\n",
              "      <td>1.19</td>\n",
              "    </tr>\n",
              "    <tr>\n",
              "      <th>percentage_renters_severe_cost_burden_2016</th>\n",
              "      <td>0.405</td>\n",
              "      <td>False</td>\n",
              "      <td>1.14</td>\n",
              "      <td>1.14</td>\n",
              "    </tr>\n",
              "    <tr>\n",
              "      <th>percent_female_population</th>\n",
              "      <td>0.426</td>\n",
              "      <td>False</td>\n",
              "      <td>-1.11</td>\n",
              "      <td>1.11</td>\n",
              "    </tr>\n",
              "    <tr>\n",
              "      <th>rental_vacancy_rate</th>\n",
              "      <td>0.291</td>\n",
              "      <td>False</td>\n",
              "      <td>-1.03</td>\n",
              "      <td>1.03</td>\n",
              "    </tr>\n",
              "    <tr>\n",
              "      <th>total_annual_precipitation</th>\n",
              "      <td>0.151</td>\n",
              "      <td>False</td>\n",
              "      <td>0.97</td>\n",
              "      <td>0.97</td>\n",
              "    </tr>\n",
              "    <tr>\n",
              "      <th>share_veteran_status</th>\n",
              "      <td>0.456</td>\n",
              "      <td>False</td>\n",
              "      <td>-0.93</td>\n",
              "      <td>0.93</td>\n",
              "    </tr>\n",
              "    <tr>\n",
              "      <th>number_eviction</th>\n",
              "      <td>0.046</td>\n",
              "      <td>True</td>\n",
              "      <td>0.81</td>\n",
              "      <td>0.81</td>\n",
              "    </tr>\n",
              "    <tr>\n",
              "      <th>net_migration</th>\n",
              "      <td>0.110</td>\n",
              "      <td>False</td>\n",
              "      <td>-0.78</td>\n",
              "      <td>0.78</td>\n",
              "    </tr>\n",
              "    <tr>\n",
              "      <th>medicare_reimbursements_per_enrollee</th>\n",
              "      <td>0.593</td>\n",
              "      <td>False</td>\n",
              "      <td>-0.76</td>\n",
              "      <td>0.76</td>\n",
              "    </tr>\n",
              "    <tr>\n",
              "      <th>share_renters_2016</th>\n",
              "      <td>0.800</td>\n",
              "      <td>False</td>\n",
              "      <td>0.68</td>\n",
              "      <td>0.68</td>\n",
              "    </tr>\n",
              "    <tr>\n",
              "      <th>city_or_urban</th>\n",
              "      <td>0.851</td>\n",
              "      <td>False</td>\n",
              "      <td>0.46</td>\n",
              "      <td>0.46</td>\n",
              "    </tr>\n",
              "    <tr>\n",
              "      <th>percentage_owners_cost_burden_2016</th>\n",
              "      <td>0.843</td>\n",
              "      <td>False</td>\n",
              "      <td>0.45</td>\n",
              "      <td>0.45</td>\n",
              "    </tr>\n",
              "    <tr>\n",
              "      <th>gini_coefficient_2016</th>\n",
              "      <td>0.817</td>\n",
              "      <td>False</td>\n",
              "      <td>-0.39</td>\n",
              "      <td>0.39</td>\n",
              "    </tr>\n",
              "    <tr>\n",
              "      <th>house_price_index_2009</th>\n",
              "      <td>0.765</td>\n",
              "      <td>False</td>\n",
              "      <td>0.36</td>\n",
              "      <td>0.36</td>\n",
              "    </tr>\n",
              "    <tr>\n",
              "      <th>average_Jan_temperature</th>\n",
              "      <td>0.905</td>\n",
              "      <td>False</td>\n",
              "      <td>0.35</td>\n",
              "      <td>0.35</td>\n",
              "    </tr>\n",
              "    <tr>\n",
              "      <th>share_no_bachelors</th>\n",
              "      <td>0.926</td>\n",
              "      <td>False</td>\n",
              "      <td>-0.28</td>\n",
              "      <td>0.28</td>\n",
              "    </tr>\n",
              "    <tr>\n",
              "      <th>percent_pacific_islander</th>\n",
              "      <td>0.052</td>\n",
              "      <td>False</td>\n",
              "      <td>0.28</td>\n",
              "      <td>0.28</td>\n",
              "    </tr>\n",
              "  </tbody>\n",
              "</table>\n",
              "</div>\n",
              "      <button class=\"colab-df-convert\" onclick=\"convertToInteractive('df-0d8bac9f-6db4-4a5f-9c8b-9fe904826d51')\"\n",
              "              title=\"Convert this dataframe to an interactive table.\"\n",
              "              style=\"display:none;\">\n",
              "        \n",
              "  <svg xmlns=\"http://www.w3.org/2000/svg\" height=\"24px\"viewBox=\"0 0 24 24\"\n",
              "       width=\"24px\">\n",
              "    <path d=\"M0 0h24v24H0V0z\" fill=\"none\"/>\n",
              "    <path d=\"M18.56 5.44l.94 2.06.94-2.06 2.06-.94-2.06-.94-.94-2.06-.94 2.06-2.06.94zm-11 1L8.5 8.5l.94-2.06 2.06-.94-2.06-.94L8.5 2.5l-.94 2.06-2.06.94zm10 10l.94 2.06.94-2.06 2.06-.94-2.06-.94-.94-2.06-.94 2.06-2.06.94z\"/><path d=\"M17.41 7.96l-1.37-1.37c-.4-.4-.92-.59-1.43-.59-.52 0-1.04.2-1.43.59L10.3 9.45l-7.72 7.72c-.78.78-.78 2.05 0 2.83L4 21.41c.39.39.9.59 1.41.59.51 0 1.02-.2 1.41-.59l7.78-7.78 2.81-2.81c.8-.78.8-2.07 0-2.86zM5.41 20L4 18.59l7.72-7.72 1.47 1.35L5.41 20z\"/>\n",
              "  </svg>\n",
              "      </button>\n",
              "      \n",
              "  <style>\n",
              "    .colab-df-container {\n",
              "      display:flex;\n",
              "      flex-wrap:wrap;\n",
              "      gap: 12px;\n",
              "    }\n",
              "\n",
              "    .colab-df-convert {\n",
              "      background-color: #E8F0FE;\n",
              "      border: none;\n",
              "      border-radius: 50%;\n",
              "      cursor: pointer;\n",
              "      display: none;\n",
              "      fill: #1967D2;\n",
              "      height: 32px;\n",
              "      padding: 0 0 0 0;\n",
              "      width: 32px;\n",
              "    }\n",
              "\n",
              "    .colab-df-convert:hover {\n",
              "      background-color: #E2EBFA;\n",
              "      box-shadow: 0px 1px 2px rgba(60, 64, 67, 0.3), 0px 1px 3px 1px rgba(60, 64, 67, 0.15);\n",
              "      fill: #174EA6;\n",
              "    }\n",
              "\n",
              "    [theme=dark] .colab-df-convert {\n",
              "      background-color: #3B4455;\n",
              "      fill: #D2E3FC;\n",
              "    }\n",
              "\n",
              "    [theme=dark] .colab-df-convert:hover {\n",
              "      background-color: #434B5C;\n",
              "      box-shadow: 0px 1px 3px 1px rgba(0, 0, 0, 0.15);\n",
              "      filter: drop-shadow(0px 1px 2px rgba(0, 0, 0, 0.3));\n",
              "      fill: #FFFFFF;\n",
              "    }\n",
              "  </style>\n",
              "\n",
              "      <script>\n",
              "        const buttonEl =\n",
              "          document.querySelector('#df-0d8bac9f-6db4-4a5f-9c8b-9fe904826d51 button.colab-df-convert');\n",
              "        buttonEl.style.display =\n",
              "          google.colab.kernel.accessAllowed ? 'block' : 'none';\n",
              "\n",
              "        async function convertToInteractive(key) {\n",
              "          const element = document.querySelector('#df-0d8bac9f-6db4-4a5f-9c8b-9fe904826d51');\n",
              "          const dataTable =\n",
              "            await google.colab.kernel.invokeFunction('convertToInteractive',\n",
              "                                                     [key], {});\n",
              "          if (!dataTable) return;\n",
              "\n",
              "          const docLinkHtml = 'Like what you see? Visit the ' +\n",
              "            '<a target=\"_blank\" href=https://colab.research.google.com/notebooks/data_table.ipynb>data table notebook</a>'\n",
              "            + ' to learn more about interactive tables.';\n",
              "          element.innerHTML = '';\n",
              "          dataTable['output_type'] = 'display_data';\n",
              "          await google.colab.output.renderOutput(dataTable, element);\n",
              "          const docLink = document.createElement('div');\n",
              "          docLink.innerHTML = docLinkHtml;\n",
              "          element.appendChild(docLink);\n",
              "        }\n",
              "      </script>\n",
              "    </div>\n",
              "  </div>\n",
              "  "
            ]
          },
          "metadata": {},
          "execution_count": 36
        }
      ]
    },
    {
      "cell_type": "code",
      "source": [
        "# Computing the MSE, RMSE, and R^2 values\n",
        "MSE = mean_squared_error(y_test, model.predict(sm.add_constant(X_test)))\n",
        "RMSE = np.sqrt(MSE)\n",
        "R_squared = r2_score(y_test, model.predict(sm.add_constant(X_test)))\n",
        "\n",
        "print('MSE =', MSE.round(3), ' RMSE =', RMSE.round(3), ' R-squared =', R_squared.round(3))"
      ],
      "metadata": {
        "colab": {
          "base_uri": "https://localhost:8080/"
        },
        "id": "Stat2pcs2oqI",
        "outputId": "966ca7af-72bc-4932-b892-d05def3466db"
      },
      "execution_count": 37,
      "outputs": [
        {
          "output_type": "stream",
          "name": "stdout",
          "text": [
            "MSE = 120.159  RMSE = 10.962  R-squared = 0.388\n"
          ]
        }
      ]
    },
    {
      "cell_type": "markdown",
      "source": [
        "## Lasso Method"
      ],
      "metadata": {
        "id": "KS7R-a4m4R9m"
      }
    },
    {
      "cell_type": "markdown",
      "source": [
        "Creating an array of possible α values"
      ],
      "metadata": {
        "id": "04V4lNtp6iJ4"
      }
    },
    {
      "cell_type": "code",
      "source": [
        "#fit the model using lasso method\n",
        "alphas = 10**np.linspace(-4,2,10)\n",
        "\n",
        "lasso = Lasso(max_iter = 100000)\n",
        "coefs = []\n",
        "\n",
        "for a in alphas:\n",
        "    lasso.set_params(alpha=a)\n",
        "    lasso.fit(X_train, y_train)\n",
        "    coefs.append(lasso.coef_)\n",
        "    \n",
        "ax = plt.gca()\n",
        "ax.plot(alphas, coefs)\n",
        "ax.set_xscale('log')\n",
        "plt.axis('tight')\n",
        "plt.xlabel('alpha', fontsize = 14)\n",
        "plt.ylabel('coefficients', fontsize = 14);"
      ],
      "metadata": {
        "colab": {
          "base_uri": "https://localhost:8080/",
          "height": 463
        },
        "id": "evjre9W-5rLY",
        "outputId": "e91067a5-a616-453a-fb4a-ca6c9af714f5"
      },
      "execution_count": 38,
      "outputs": [
        {
          "output_type": "display_data",
          "data": {
            "text/plain": [
              "<Figure size 640x480 with 1 Axes>"
            ],
            "image/png": "[encoded data removed]"
          },
          "metadata": {}
        }
      ]
    },
    {
      "cell_type": "markdown",
      "source": [
        "As the alpha gets bigger, coefficients center on 0. "
      ],
      "metadata": {
        "id": "pepMcgZt_yiz"
      }
    },
    {
      "cell_type": "markdown",
      "source": [
        "Doing 5-fold cross validation to find α"
      ],
      "metadata": {
        "id": "ug53WKWu6aty"
      }
    },
    {
      "cell_type": "code",
      "source": [
        "lassocv = LassoCV(alphas = None, cv = 5, max_iter = 100_000)\n",
        "lassocv.fit(X_train, y_train)\n",
        "lassocv.alpha_"
      ],
      "metadata": {
        "colab": {
          "base_uri": "https://localhost:8080/"
        },
        "id": "gM4_O-Cp6pwL",
        "outputId": "6cbf1fb0-d09e-4db2-84b7-164d3878143a"
      },
      "execution_count": 39,
      "outputs": [
        {
          "output_type": "execute_result",
          "data": {
            "text/plain": [
              "0.2784264209338742"
            ]
          },
          "metadata": {},
          "execution_count": 39
        }
      ]
    },
    {
      "cell_type": "code",
      "source": [
        "plt.semilogx(lassocv.alphas_, lassocv.mse_path_, \":\")\n",
        "plt.plot(\n",
        "    lassocv.alphas_ ,\n",
        "    lassocv.mse_path_.mean(axis=-1),\n",
        "    \"k\",\n",
        "    label=\"Average across the folds\",\n",
        "    linewidth=2,\n",
        ")\n",
        "plt.axvline(\n",
        "    lassocv.alpha_, linestyle=\"--\", color=\"k\", label=\"alpha: CV estimate\"\n",
        ")\n",
        "\n",
        "plt.legend()\n",
        "plt.xlabel(\"alphas\")\n",
        "plt.ylabel(\"Mean square error\")\n",
        "plt.title(\"Mean square error on each fold\")\n",
        "plt.axis(\"tight\");\n",
        "     "
      ],
      "metadata": {
        "colab": {
          "base_uri": "https://localhost:8080/",
          "height": 484
        },
        "id": "eZNihy917CLP",
        "outputId": "df51578f-cea1-40ac-f6ec-d892fe057b6f"
      },
      "execution_count": 40,
      "outputs": [
        {
          "output_type": "display_data",
          "data": {
            "text/plain": [
              "<Figure size 640x480 with 1 Axes>"
            ],
            "image/png": "[encoded data removed]"
          },
          "metadata": {}
        }
      ]
    },
    {
      "cell_type": "markdown",
      "source": [
        "Fit the Lasso model on the training data with the best α\n",
        " and examine the coefficients."
      ],
      "metadata": {
        "id": "6NsflKTA8sF6"
      }
    },
    {
      "cell_type": "code",
      "source": [
        "lasso_reg = Lasso(alpha = lassocv.alpha_).fit(X_train, y_train)"
      ],
      "metadata": {
        "id": "eK3XGElU8-tN"
      },
      "execution_count": 41,
      "outputs": []
    },
    {
      "cell_type": "code",
      "source": [
        "coefficients = lasso_reg.coef_.round(3)\n",
        "coefficients = np.insert(coefficients, 0, lasso_reg.intercept_.round(4))\n",
        "\n",
        "variables = X.columns\n",
        "variables = np.insert(variables, 0, 'intercept')\n",
        "\n",
        "pd.DataFrame(data = coefficients.round(2), index = variables, columns = ['Estimated Coefficient'])\n",
        "     "
      ],
      "metadata": {
        "colab": {
          "base_uri": "https://localhost:8080/",
          "height": 1000
        },
        "id": "-gC5fVqf882L",
        "outputId": "9d1fdebe-e5c5-47ab-9af1-cacdfacfdade"
      },
      "execution_count": 42,
      "outputs": [
        {
          "output_type": "execute_result",
          "data": {
            "text/plain": [
              "                                            Estimated Coefficient\n",
              "intercept                                                   14.52\n",
              "HUD_unit_occupancy_rate                                     -1.21\n",
              "average_Jan_temperature                                      0.00\n",
              "average_summer_temperature                                  -0.00\n",
              "census_region                                                3.67\n",
              "city_or_urban                                                0.00\n",
              "gini_coefficient_2016                                        0.00\n",
              "high_housing_density                                        -0.00\n",
              "house_price_index_2009                                       0.20\n",
              "log_median_rent                                              6.00\n",
              "medicare_reimbursements_per_enrollee                        -0.00\n",
              "migration_4_year_change                                      2.06\n",
              "net_migration                                               -0.13\n",
              "number_eviction                                              0.39\n",
              "percent_asian                                               -1.14\n",
              "percent_black                                               -1.62\n",
              "percent_female_population                                   -0.00\n",
              "percent_latino_hispanic                                      0.00\n",
              "percent_pacific_islander                                     0.30\n",
              "percent_population_0_19                                     -0.45\n",
              "percent_population_65_plus                                   0.57\n",
              "percentage_excessive_drinking                                1.69\n",
              "percentage_owners_cost_burden_2016                           0.00\n",
              "percentage_renters_severe_cost_burden_2016                   0.00\n",
              "poverty_rate                                                -0.00\n",
              "proportion_one_person_households                             4.76\n",
              "rate_unemployment                                            1.07\n",
              "rental_vacancy_rate                                         -0.32\n",
              "share_HUD_units                                              4.76\n",
              "share_built_before_1940                                      2.21\n",
              "share_no_bachelors                                          -0.00\n",
              "share_overcrowded_units_2016                                 2.62\n",
              "share_renters_2016                                           0.00\n",
              "share_under_18_with_single_parent                            0.00\n",
              "share_veteran_status                                         0.00\n",
              "suburban                                                    -1.16\n",
              "total_Jan_precipitation                                      1.92\n",
              "total_annual_precipitation                                   0.29\n",
              "utility_costs                                               -1.11"
            ],
            "text/html": [
              "\n",
              "  <div id=\"df-8d3ccc37-4e3b-49d8-880b-4f82286831ca\">\n",
              "    <div class=\"colab-df-container\">\n",
              "      <div>\n",
              "<style scoped>\n",
              "    .dataframe tbody tr th:only-of-type {\n",
              "        vertical-align: middle;\n",
              "    }\n",
              "\n",
              "    .dataframe tbody tr th {\n",
              "        vertical-align: top;\n",
              "    }\n",
              "\n",
              "    .dataframe thead th {\n",
              "        text-align: right;\n",
              "    }\n",
              "</style>\n",
              "<table border=\"1\" class=\"dataframe\">\n",
              "  <thead>\n",
              "    <tr style=\"text-align: right;\">\n",
              "      <th></th>\n",
              "      <th>Estimated Coefficient</th>\n",
              "    </tr>\n",
              "  </thead>\n",
              "  <tbody>\n",
              "    <tr>\n",
              "      <th>intercept</th>\n",
              "      <td>14.52</td>\n",
              "    </tr>\n",
              "    <tr>\n",
              "      <th>HUD_unit_occupancy_rate</th>\n",
              "      <td>-1.21</td>\n",
              "    </tr>\n",
              "    <tr>\n",
              "      <th>average_Jan_temperature</th>\n",
              "      <td>0.00</td>\n",
              "    </tr>\n",
              "    <tr>\n",
              "      <th>average_summer_temperature</th>\n",
              "      <td>-0.00</td>\n",
              "    </tr>\n",
              "    <tr>\n",
              "      <th>census_region</th>\n",
              "      <td>3.67</td>\n",
              "    </tr>\n",
              "    <tr>\n",
              "      <th>city_or_urban</th>\n",
              "      <td>0.00</td>\n",
              "    </tr>\n",
              "    <tr>\n",
              "      <th>gini_coefficient_2016</th>\n",
              "      <td>0.00</td>\n",
              "    </tr>\n",
              "    <tr>\n",
              "      <th>high_housing_density</th>\n",
              "      <td>-0.00</td>\n",
              "    </tr>\n",
              "    <tr>\n",
              "      <th>house_price_index_2009</th>\n",
              "      <td>0.20</td>\n",
              "    </tr>\n",
              "    <tr>\n",
              "      <th>log_median_rent</th>\n",
              "      <td>6.00</td>\n",
              "    </tr>\n",
              "    <tr>\n",
              "      <th>medicare_reimbursements_per_enrollee</th>\n",
              "      <td>-0.00</td>\n",
              "    </tr>\n",
              "    <tr>\n",
              "      <th>migration_4_year_change</th>\n",
              "      <td>2.06</td>\n",
              "    </tr>\n",
              "    <tr>\n",
              "      <th>net_migration</th>\n",
              "      <td>-0.13</td>\n",
              "    </tr>\n",
              "    <tr>\n",
              "      <th>number_eviction</th>\n",
              "      <td>0.39</td>\n",
              "    </tr>\n",
              "    <tr>\n",
              "      <th>percent_asian</th>\n",
              "      <td>-1.14</td>\n",
              "    </tr>\n",
              "    <tr>\n",
              "      <th>percent_black</th>\n",
              "      <td>-1.62</td>\n",
              "    </tr>\n",
              "    <tr>\n",
              "      <th>percent_female_population</th>\n",
              "      <td>-0.00</td>\n",
              "    </tr>\n",
              "    <tr>\n",
              "      <th>percent_latino_hispanic</th>\n",
              "      <td>0.00</td>\n",
              "    </tr>\n",
              "    <tr>\n",
              "      <th>percent_pacific_islander</th>\n",
              "      <td>0.30</td>\n",
              "    </tr>\n",
              "    <tr>\n",
              "      <th>percent_population_0_19</th>\n",
              "      <td>-0.45</td>\n",
              "    </tr>\n",
              "    <tr>\n",
              "      <th>percent_population_65_plus</th>\n",
              "      <td>0.57</td>\n",
              "    </tr>\n",
              "    <tr>\n",
              "      <th>percentage_excessive_drinking</th>\n",
              "      <td>1.69</td>\n",
              "    </tr>\n",
              "    <tr>\n",
              "      <th>percentage_owners_cost_burden_2016</th>\n",
              "      <td>0.00</td>\n",
              "    </tr>\n",
              "    <tr>\n",
              "      <th>percentage_renters_severe_cost_burden_2016</th>\n",
              "      <td>0.00</td>\n",
              "    </tr>\n",
              "    <tr>\n",
              "      <th>poverty_rate</th>\n",
              "      <td>-0.00</td>\n",
              "    </tr>\n",
              "    <tr>\n",
              "      <th>proportion_one_person_households</th>\n",
              "      <td>4.76</td>\n",
              "    </tr>\n",
              "    <tr>\n",
              "      <th>rate_unemployment</th>\n",
              "      <td>1.07</td>\n",
              "    </tr>\n",
              "    <tr>\n",
              "      <th>rental_vacancy_rate</th>\n",
              "      <td>-0.32</td>\n",
              "    </tr>\n",
              "    <tr>\n",
              "      <th>share_HUD_units</th>\n",
              "      <td>4.76</td>\n",
              "    </tr>\n",
              "    <tr>\n",
              "      <th>share_built_before_1940</th>\n",
              "      <td>2.21</td>\n",
              "    </tr>\n",
              "    <tr>\n",
              "      <th>share_no_bachelors</th>\n",
              "      <td>-0.00</td>\n",
              "    </tr>\n",
              "    <tr>\n",
              "      <th>share_overcrowded_units_2016</th>\n",
              "      <td>2.62</td>\n",
              "    </tr>\n",
              "    <tr>\n",
              "      <th>share_renters_2016</th>\n",
              "      <td>0.00</td>\n",
              "    </tr>\n",
              "    <tr>\n",
              "      <th>share_under_18_with_single_parent</th>\n",
              "      <td>0.00</td>\n",
              "    </tr>\n",
              "    <tr>\n",
              "      <th>share_veteran_status</th>\n",
              "      <td>0.00</td>\n",
              "    </tr>\n",
              "    <tr>\n",
              "      <th>suburban</th>\n",
              "      <td>-1.16</td>\n",
              "    </tr>\n",
              "    <tr>\n",
              "      <th>total_Jan_precipitation</th>\n",
              "      <td>1.92</td>\n",
              "    </tr>\n",
              "    <tr>\n",
              "      <th>total_annual_precipitation</th>\n",
              "      <td>0.29</td>\n",
              "    </tr>\n",
              "    <tr>\n",
              "      <th>utility_costs</th>\n",
              "      <td>-1.11</td>\n",
              "    </tr>\n",
              "  </tbody>\n",
              "</table>\n",
              "</div>\n",
              "      <button class=\"colab-df-convert\" onclick=\"convertToInteractive('df-8d3ccc37-4e3b-49d8-880b-4f82286831ca')\"\n",
              "              title=\"Convert this dataframe to an interactive table.\"\n",
              "              style=\"display:none;\">\n",
              "        \n",
              "  <svg xmlns=\"http://www.w3.org/2000/svg\" height=\"24px\"viewBox=\"0 0 24 24\"\n",
              "       width=\"24px\">\n",
              "    <path d=\"M0 0h24v24H0V0z\" fill=\"none\"/>\n",
              "    <path d=\"M18.56 5.44l.94 2.06.94-2.06 2.06-.94-2.06-.94-.94-2.06-.94 2.06-2.06.94zm-11 1L8.5 8.5l.94-2.06 2.06-.94-2.06-.94L8.5 2.5l-.94 2.06-2.06.94zm10 10l.94 2.06.94-2.06 2.06-.94-2.06-.94-.94-2.06-.94 2.06-2.06.94z\"/><path d=\"M17.41 7.96l-1.37-1.37c-.4-.4-.92-.59-1.43-.59-.52 0-1.04.2-1.43.59L10.3 9.45l-7.72 7.72c-.78.78-.78 2.05 0 2.83L4 21.41c.39.39.9.59 1.41.59.51 0 1.02-.2 1.41-.59l7.78-7.78 2.81-2.81c.8-.78.8-2.07 0-2.86zM5.41 20L4 18.59l7.72-7.72 1.47 1.35L5.41 20z\"/>\n",
              "  </svg>\n",
              "      </button>\n",
              "      \n",
              "  <style>\n",
              "    .colab-df-container {\n",
              "      display:flex;\n",
              "      flex-wrap:wrap;\n",
              "      gap: 12px;\n",
              "    }\n",
              "\n",
              "    .colab-df-convert {\n",
              "      background-color: #E8F0FE;\n",
              "      border: none;\n",
              "      border-radius: 50%;\n",
              "      cursor: pointer;\n",
              "      display: none;\n",
              "      fill: #1967D2;\n",
              "      height: 32px;\n",
              "      padding: 0 0 0 0;\n",
              "      width: 32px;\n",
              "    }\n",
              "\n",
              "    .colab-df-convert:hover {\n",
              "      background-color: #E2EBFA;\n",
              "      box-shadow: 0px 1px 2px rgba(60, 64, 67, 0.3), 0px 1px 3px 1px rgba(60, 64, 67, 0.15);\n",
              "      fill: #174EA6;\n",
              "    }\n",
              "\n",
              "    [theme=dark] .colab-df-convert {\n",
              "      background-color: #3B4455;\n",
              "      fill: #D2E3FC;\n",
              "    }\n",
              "\n",
              "    [theme=dark] .colab-df-convert:hover {\n",
              "      background-color: #434B5C;\n",
              "      box-shadow: 0px 1px 3px 1px rgba(0, 0, 0, 0.15);\n",
              "      filter: drop-shadow(0px 1px 2px rgba(0, 0, 0, 0.3));\n",
              "      fill: #FFFFFF;\n",
              "    }\n",
              "  </style>\n",
              "\n",
              "      <script>\n",
              "        const buttonEl =\n",
              "          document.querySelector('#df-8d3ccc37-4e3b-49d8-880b-4f82286831ca button.colab-df-convert');\n",
              "        buttonEl.style.display =\n",
              "          google.colab.kernel.accessAllowed ? 'block' : 'none';\n",
              "\n",
              "        async function convertToInteractive(key) {\n",
              "          const element = document.querySelector('#df-8d3ccc37-4e3b-49d8-880b-4f82286831ca');\n",
              "          const dataTable =\n",
              "            await google.colab.kernel.invokeFunction('convertToInteractive',\n",
              "                                                     [key], {});\n",
              "          if (!dataTable) return;\n",
              "\n",
              "          const docLinkHtml = 'Like what you see? Visit the ' +\n",
              "            '<a target=\"_blank\" href=https://colab.research.google.com/notebooks/data_table.ipynb>data table notebook</a>'\n",
              "            + ' to learn more about interactive tables.';\n",
              "          element.innerHTML = '';\n",
              "          dataTable['output_type'] = 'display_data';\n",
              "          await google.colab.output.renderOutput(dataTable, element);\n",
              "          const docLink = document.createElement('div');\n",
              "          docLink.innerHTML = docLinkHtml;\n",
              "          element.appendChild(docLink);\n",
              "        }\n",
              "      </script>\n",
              "    </div>\n",
              "  </div>\n",
              "  "
            ]
          },
          "metadata": {},
          "execution_count": 42
        }
      ]
    },
    {
      "cell_type": "markdown",
      "source": [
        "Using the lasso model to predict the test data, we are computing the MSE, RMSE, and R2."
      ],
      "metadata": {
        "id": "DVUSO1sK9E0F"
      }
    },
    {
      "cell_type": "code",
      "source": [
        "MSE_lasso = mean_squared_error(y_test, lasso_reg.predict(X_test))\n",
        "RMSE_lasso = np.sqrt(MSE_lasso)\n",
        "R_squared_lasso = r2_score(y_test, lasso_reg.predict(X_test))\n",
        "\n",
        "print('MSE =', MSE_lasso.round(3), ' RMSE =', RMSE_lasso.round(3), ' R-squared =', R_squared_lasso.round(3))"
      ],
      "metadata": {
        "colab": {
          "base_uri": "https://localhost:8080/"
        },
        "id": "d1d75ip69NyV",
        "outputId": "3fefbede-b49d-456f-9260-a7a413d3144f"
      },
      "execution_count": 43,
      "outputs": [
        {
          "output_type": "stream",
          "name": "stdout",
          "text": [
            "MSE = 107.794  RMSE = 10.382  R-squared = 0.451\n"
          ]
        }
      ]
    },
    {
      "cell_type": "markdown",
      "source": [
        "Here is the scatter plot of the measured log sale price vs. the predicted log sale price. "
      ],
      "metadata": {
        "id": "EX62CrCb9f7U"
      }
    },
    {
      "cell_type": "code",
      "source": [
        "plt.figure(figsize=(8,6))\n",
        "\n",
        "plt.plot(y_test, lasso_reg.predict(X_test),'o', alpha = 0.4)\n",
        "\n",
        "plt.xlabel('Actual Rate of Homelessness',fontsize = 20)\n",
        "plt.ylabel('Predicted Rate Homeless',fontsize = 20)\n",
        "plt.title('Lasso' + ' ' + ' RMSE = ' + str(RMSE_lasso.round(2)),fontsize = 14);"
      ],
      "metadata": {
        "colab": {
          "base_uri": "https://localhost:8080/",
          "height": 584
        },
        "id": "7QyVtiJO9mfK",
        "outputId": "a401d648-d554-4daf-8fb8-cb1f2d053961"
      },
      "execution_count": 44,
      "outputs": [
        {
          "output_type": "display_data",
          "data": {
            "text/plain": [
              "<Figure size 800x600 with 1 Axes>"
            ],
            "image/png": "[encoded data removed]"
          },
          "metadata": {}
        }
      ]
    },
    {
      "cell_type": "markdown",
      "source": [
        "## Ridge Regression Method "
      ],
      "metadata": {
        "id": "zl5ymzGM93c6"
      }
    },
    {
      "cell_type": "markdown",
      "source": [
        "Creating an array of possible α values"
      ],
      "metadata": {
        "id": "d2bdIrrw-WsS"
      }
    },
    {
      "cell_type": "code",
      "source": [
        "alphas = 10**np.linspace(-3,5,20)"
      ],
      "metadata": {
        "id": "l07RDVUb-iPZ"
      },
      "execution_count": 45,
      "outputs": []
    },
    {
      "cell_type": "code",
      "source": [
        "# Fitting the model using ridge method\n",
        "ridge = Ridge(max_iter = 100000)\n",
        "coefs = []\n",
        "\n",
        "for a in alphas:\n",
        "    ridge.set_params(alpha=a)\n",
        "    ridge.fit(X_train, y_train)\n",
        "    coefs.append(ridge.coef_)\n",
        "    \n",
        "ax = plt.gca()\n",
        "ax.plot(alphas, coefs)\n",
        "ax.set_xscale('log')\n",
        "plt.axis('tight')\n",
        "plt.xlabel('alpha', fontsize = 14)\n",
        "plt.ylabel('coefficients', fontsize = 14);"
      ],
      "metadata": {
        "colab": {
          "base_uri": "https://localhost:8080/",
          "height": 463
        },
        "id": "GtKlL0ez-nwT",
        "outputId": "15ac4982-5781-4684-abc4-1defb3c90917"
      },
      "execution_count": 46,
      "outputs": [
        {
          "output_type": "display_data",
          "data": {
            "text/plain": [
              "<Figure size 640x480 with 1 Axes>"
            ],
            "image/png": "[encoded data removed]"
          },
          "metadata": {}
        }
      ]
    },
    {
      "cell_type": "markdown",
      "source": [
        "As coefficients increase on the X-axis, it gets smaller and smaller getting close to 0."
      ],
      "metadata": {
        "id": "tclLDivp_mWR"
      }
    },
    {
      "cell_type": "markdown",
      "source": [
        "Doing 5-fold cross validation again"
      ],
      "metadata": {
        "id": "mTEFG94c-2dx"
      }
    },
    {
      "cell_type": "code",
      "source": [
        "ridgecv = RidgeCV(alphas = alphas, cv = 5, scoring = 'neg_mean_squared_error')\n",
        "\n",
        "ridgecv.fit(X_train, y_train);"
      ],
      "metadata": {
        "id": "IyqCUiWb-6Xg"
      },
      "execution_count": 47,
      "outputs": []
    },
    {
      "cell_type": "code",
      "source": [
        "# Printing the best α \n",
        "ridgecv.alpha_"
      ],
      "metadata": {
        "colab": {
          "base_uri": "https://localhost:8080/"
        },
        "id": "yGSiHgyd-9SS",
        "outputId": "cbf1d047-1827-4102-8753-6e442fdb2700"
      },
      "execution_count": 48,
      "outputs": [
        {
          "output_type": "execute_result",
          "data": {
            "text/plain": [
              "42.81332398719396"
            ]
          },
          "metadata": {},
          "execution_count": 48
        }
      ]
    },
    {
      "cell_type": "code",
      "source": [
        "# Fitting the ridge regression model on training data\n",
        "ridge_reg = Ridge(alpha = ridgecv.alpha_).fit(X_train, y_train)"
      ],
      "metadata": {
        "id": "gvRojybB_Sa7"
      },
      "execution_count": 49,
      "outputs": []
    },
    {
      "cell_type": "code",
      "source": [
        "coefficients = ridge_reg.coef_.round(3)\n",
        "coefficients = np.insert(coefficients, 0, ridge_reg.intercept_.round(3))\n",
        "\n",
        "variables = X.columns\n",
        "variables = np.insert(variables, 0, 'intercept')\n",
        "\n",
        "pd.DataFrame(data = coefficients, index = variables, columns = ['Estimated Coefficient'])"
      ],
      "metadata": {
        "colab": {
          "base_uri": "https://localhost:8080/",
          "height": 1000
        },
        "id": "Vk2IlRni_ZT2",
        "outputId": "2458a69e-d456-4a9f-f4be-1b11459d1b99"
      },
      "execution_count": 50,
      "outputs": [
        {
          "output_type": "execute_result",
          "data": {
            "text/plain": [
              "                                            Estimated Coefficient\n",
              "intercept                                                  13.930\n",
              "HUD_unit_occupancy_rate                                    -1.590\n",
              "average_Jan_temperature                                    -0.004\n",
              "average_summer_temperature                                 -0.099\n",
              "census_region                                               3.098\n",
              "city_or_urban                                               0.855\n",
              "gini_coefficient_2016                                       0.202\n",
              "high_housing_density                                       -0.907\n",
              "house_price_index_2009                                      0.953\n",
              "log_median_rent                                             2.983\n",
              "medicare_reimbursements_per_enrollee                        0.024\n",
              "migration_4_year_change                                     1.852\n",
              "net_migration                                              -0.390\n",
              "number_eviction                                             0.569\n",
              "percent_asian                                              -1.195\n",
              "percent_black                                              -1.182\n",
              "percent_female_population                                  -0.384\n",
              "percent_latino_hispanic                                     0.428\n",
              "percent_pacific_islander                                    0.326\n",
              "percent_population_0_19                                    -1.154\n",
              "percent_population_65_plus                                  1.006\n",
              "percentage_excessive_drinking                               1.422\n",
              "percentage_owners_cost_burden_2016                          0.955\n",
              "percentage_renters_severe_cost_burden_2016                  0.578\n",
              "poverty_rate                                               -0.988\n",
              "proportion_one_person_households                            3.173\n",
              "rate_unemployment                                           1.161\n",
              "rental_vacancy_rate                                        -0.885\n",
              "share_HUD_units                                             3.404\n",
              "share_built_before_1940                                     2.157\n",
              "share_no_bachelors                                         -1.019\n",
              "share_overcrowded_units_2016                                2.115\n",
              "share_renters_2016                                          1.471\n",
              "share_under_18_with_single_parent                           0.796\n",
              "share_veteran_status                                        0.312\n",
              "suburban                                                   -1.272\n",
              "total_Jan_precipitation                                     1.826\n",
              "total_annual_precipitation                                  0.541\n",
              "utility_costs                                              -1.771"
            ],
            "text/html": [
              "\n",
              "  <div id=\"df-31511801-6fdb-46c2-b510-d0f0008e015a\">\n",
              "    <div class=\"colab-df-container\">\n",
              "      <div>\n",
              "<style scoped>\n",
              "    .dataframe tbody tr th:only-of-type {\n",
              "        vertical-align: middle;\n",
              "    }\n",
              "\n",
              "    .dataframe tbody tr th {\n",
              "        vertical-align: top;\n",
              "    }\n",
              "\n",
              "    .dataframe thead th {\n",
              "        text-align: right;\n",
              "    }\n",
              "</style>\n",
              "<table border=\"1\" class=\"dataframe\">\n",
              "  <thead>\n",
              "    <tr style=\"text-align: right;\">\n",
              "      <th></th>\n",
              "      <th>Estimated Coefficient</th>\n",
              "    </tr>\n",
              "  </thead>\n",
              "  <tbody>\n",
              "    <tr>\n",
              "      <th>intercept</th>\n",
              "      <td>13.930</td>\n",
              "    </tr>\n",
              "    <tr>\n",
              "      <th>HUD_unit_occupancy_rate</th>\n",
              "      <td>-1.590</td>\n",
              "    </tr>\n",
              "    <tr>\n",
              "      <th>average_Jan_temperature</th>\n",
              "      <td>-0.004</td>\n",
              "    </tr>\n",
              "    <tr>\n",
              "      <th>average_summer_temperature</th>\n",
              "      <td>-0.099</td>\n",
              "    </tr>\n",
              "    <tr>\n",
              "      <th>census_region</th>\n",
              "      <td>3.098</td>\n",
              "    </tr>\n",
              "    <tr>\n",
              "      <th>city_or_urban</th>\n",
              "      <td>0.855</td>\n",
              "    </tr>\n",
              "    <tr>\n",
              "      <th>gini_coefficient_2016</th>\n",
              "      <td>0.202</td>\n",
              "    </tr>\n",
              "    <tr>\n",
              "      <th>high_housing_density</th>\n",
              "      <td>-0.907</td>\n",
              "    </tr>\n",
              "    <tr>\n",
              "      <th>house_price_index_2009</th>\n",
              "      <td>0.953</td>\n",
              "    </tr>\n",
              "    <tr>\n",
              "      <th>log_median_rent</th>\n",
              "      <td>2.983</td>\n",
              "    </tr>\n",
              "    <tr>\n",
              "      <th>medicare_reimbursements_per_enrollee</th>\n",
              "      <td>0.024</td>\n",
              "    </tr>\n",
              "    <tr>\n",
              "      <th>migration_4_year_change</th>\n",
              "      <td>1.852</td>\n",
              "    </tr>\n",
              "    <tr>\n",
              "      <th>net_migration</th>\n",
              "      <td>-0.390</td>\n",
              "    </tr>\n",
              "    <tr>\n",
              "      <th>number_eviction</th>\n",
              "      <td>0.569</td>\n",
              "    </tr>\n",
              "    <tr>\n",
              "      <th>percent_asian</th>\n",
              "      <td>-1.195</td>\n",
              "    </tr>\n",
              "    <tr>\n",
              "      <th>percent_black</th>\n",
              "      <td>-1.182</td>\n",
              "    </tr>\n",
              "    <tr>\n",
              "      <th>percent_female_population</th>\n",
              "      <td>-0.384</td>\n",
              "    </tr>\n",
              "    <tr>\n",
              "      <th>percent_latino_hispanic</th>\n",
              "      <td>0.428</td>\n",
              "    </tr>\n",
              "    <tr>\n",
              "      <th>percent_pacific_islander</th>\n",
              "      <td>0.326</td>\n",
              "    </tr>\n",
              "    <tr>\n",
              "      <th>percent_population_0_19</th>\n",
              "      <td>-1.154</td>\n",
              "    </tr>\n",
              "    <tr>\n",
              "      <th>percent_population_65_plus</th>\n",
              "      <td>1.006</td>\n",
              "    </tr>\n",
              "    <tr>\n",
              "      <th>percentage_excessive_drinking</th>\n",
              "      <td>1.422</td>\n",
              "    </tr>\n",
              "    <tr>\n",
              "      <th>percentage_owners_cost_burden_2016</th>\n",
              "      <td>0.955</td>\n",
              "    </tr>\n",
              "    <tr>\n",
              "      <th>percentage_renters_severe_cost_burden_2016</th>\n",
              "      <td>0.578</td>\n",
              "    </tr>\n",
              "    <tr>\n",
              "      <th>poverty_rate</th>\n",
              "      <td>-0.988</td>\n",
              "    </tr>\n",
              "    <tr>\n",
              "      <th>proportion_one_person_households</th>\n",
              "      <td>3.173</td>\n",
              "    </tr>\n",
              "    <tr>\n",
              "      <th>rate_unemployment</th>\n",
              "      <td>1.161</td>\n",
              "    </tr>\n",
              "    <tr>\n",
              "      <th>rental_vacancy_rate</th>\n",
              "      <td>-0.885</td>\n",
              "    </tr>\n",
              "    <tr>\n",
              "      <th>share_HUD_units</th>\n",
              "      <td>3.404</td>\n",
              "    </tr>\n",
              "    <tr>\n",
              "      <th>share_built_before_1940</th>\n",
              "      <td>2.157</td>\n",
              "    </tr>\n",
              "    <tr>\n",
              "      <th>share_no_bachelors</th>\n",
              "      <td>-1.019</td>\n",
              "    </tr>\n",
              "    <tr>\n",
              "      <th>share_overcrowded_units_2016</th>\n",
              "      <td>2.115</td>\n",
              "    </tr>\n",
              "    <tr>\n",
              "      <th>share_renters_2016</th>\n",
              "      <td>1.471</td>\n",
              "    </tr>\n",
              "    <tr>\n",
              "      <th>share_under_18_with_single_parent</th>\n",
              "      <td>0.796</td>\n",
              "    </tr>\n",
              "    <tr>\n",
              "      <th>share_veteran_status</th>\n",
              "      <td>0.312</td>\n",
              "    </tr>\n",
              "    <tr>\n",
              "      <th>suburban</th>\n",
              "      <td>-1.272</td>\n",
              "    </tr>\n",
              "    <tr>\n",
              "      <th>total_Jan_precipitation</th>\n",
              "      <td>1.826</td>\n",
              "    </tr>\n",
              "    <tr>\n",
              "      <th>total_annual_precipitation</th>\n",
              "      <td>0.541</td>\n",
              "    </tr>\n",
              "    <tr>\n",
              "      <th>utility_costs</th>\n",
              "      <td>-1.771</td>\n",
              "    </tr>\n",
              "  </tbody>\n",
              "</table>\n",
              "</div>\n",
              "      <button class=\"colab-df-convert\" onclick=\"convertToInteractive('df-31511801-6fdb-46c2-b510-d0f0008e015a')\"\n",
              "              title=\"Convert this dataframe to an interactive table.\"\n",
              "              style=\"display:none;\">\n",
              "        \n",
              "  <svg xmlns=\"http://www.w3.org/2000/svg\" height=\"24px\"viewBox=\"0 0 24 24\"\n",
              "       width=\"24px\">\n",
              "    <path d=\"M0 0h24v24H0V0z\" fill=\"none\"/>\n",
              "    <path d=\"M18.56 5.44l.94 2.06.94-2.06 2.06-.94-2.06-.94-.94-2.06-.94 2.06-2.06.94zm-11 1L8.5 8.5l.94-2.06 2.06-.94-2.06-.94L8.5 2.5l-.94 2.06-2.06.94zm10 10l.94 2.06.94-2.06 2.06-.94-2.06-.94-.94-2.06-.94 2.06-2.06.94z\"/><path d=\"M17.41 7.96l-1.37-1.37c-.4-.4-.92-.59-1.43-.59-.52 0-1.04.2-1.43.59L10.3 9.45l-7.72 7.72c-.78.78-.78 2.05 0 2.83L4 21.41c.39.39.9.59 1.41.59.51 0 1.02-.2 1.41-.59l7.78-7.78 2.81-2.81c.8-.78.8-2.07 0-2.86zM5.41 20L4 18.59l7.72-7.72 1.47 1.35L5.41 20z\"/>\n",
              "  </svg>\n",
              "      </button>\n",
              "      \n",
              "  <style>\n",
              "    .colab-df-container {\n",
              "      display:flex;\n",
              "      flex-wrap:wrap;\n",
              "      gap: 12px;\n",
              "    }\n",
              "\n",
              "    .colab-df-convert {\n",
              "      background-color: #E8F0FE;\n",
              "      border: none;\n",
              "      border-radius: 50%;\n",
              "      cursor: pointer;\n",
              "      display: none;\n",
              "      fill: #1967D2;\n",
              "      height: 32px;\n",
              "      padding: 0 0 0 0;\n",
              "      width: 32px;\n",
              "    }\n",
              "\n",
              "    .colab-df-convert:hover {\n",
              "      background-color: #E2EBFA;\n",
              "      box-shadow: 0px 1px 2px rgba(60, 64, 67, 0.3), 0px 1px 3px 1px rgba(60, 64, 67, 0.15);\n",
              "      fill: #174EA6;\n",
              "    }\n",
              "\n",
              "    [theme=dark] .colab-df-convert {\n",
              "      background-color: #3B4455;\n",
              "      fill: #D2E3FC;\n",
              "    }\n",
              "\n",
              "    [theme=dark] .colab-df-convert:hover {\n",
              "      background-color: #434B5C;\n",
              "      box-shadow: 0px 1px 3px 1px rgba(0, 0, 0, 0.15);\n",
              "      filter: drop-shadow(0px 1px 2px rgba(0, 0, 0, 0.3));\n",
              "      fill: #FFFFFF;\n",
              "    }\n",
              "  </style>\n",
              "\n",
              "      <script>\n",
              "        const buttonEl =\n",
              "          document.querySelector('#df-31511801-6fdb-46c2-b510-d0f0008e015a button.colab-df-convert');\n",
              "        buttonEl.style.display =\n",
              "          google.colab.kernel.accessAllowed ? 'block' : 'none';\n",
              "\n",
              "        async function convertToInteractive(key) {\n",
              "          const element = document.querySelector('#df-31511801-6fdb-46c2-b510-d0f0008e015a');\n",
              "          const dataTable =\n",
              "            await google.colab.kernel.invokeFunction('convertToInteractive',\n",
              "                                                     [key], {});\n",
              "          if (!dataTable) return;\n",
              "\n",
              "          const docLinkHtml = 'Like what you see? Visit the ' +\n",
              "            '<a target=\"_blank\" href=https://colab.research.google.com/notebooks/data_table.ipynb>data table notebook</a>'\n",
              "            + ' to learn more about interactive tables.';\n",
              "          element.innerHTML = '';\n",
              "          dataTable['output_type'] = 'display_data';\n",
              "          await google.colab.output.renderOutput(dataTable, element);\n",
              "          const docLink = document.createElement('div');\n",
              "          docLink.innerHTML = docLinkHtml;\n",
              "          element.appendChild(docLink);\n",
              "        }\n",
              "      </script>\n",
              "    </div>\n",
              "  </div>\n",
              "  "
            ]
          },
          "metadata": {},
          "execution_count": 50
        }
      ]
    },
    {
      "cell_type": "markdown",
      "source": [
        "Using the ridge model to predict the test data, we are computing the MSE, RMSE, and R2."
      ],
      "metadata": {
        "id": "M5hCGjstBQNr"
      }
    },
    {
      "cell_type": "code",
      "source": [
        "MSE_ridge = mean_squared_error(y_test, ridge_reg.predict(X_test))\n",
        "RMSE_ridge = np.sqrt(MSE_ridge)\n",
        "R_squared_ridge = r2_score(y_test, ridge_reg.predict(X_test))\n",
        "\n",
        "print('MSE =', MSE_ridge.round(3), ' RMSE =', RMSE_ridge.round(3), ' R-squared =', R_squared_ridge.round(3))"
      ],
      "metadata": {
        "colab": {
          "base_uri": "https://localhost:8080/"
        },
        "id": "QaIxnMdPBPWJ",
        "outputId": "583d2772-452b-42af-b749-dd14d6938b21"
      },
      "execution_count": 51,
      "outputs": [
        {
          "output_type": "stream",
          "name": "stdout",
          "text": [
            "MSE = 111.178  RMSE = 10.544  R-squared = 0.434\n"
          ]
        }
      ]
    },
    {
      "cell_type": "code",
      "source": [
        "# making a scatter plot\n",
        "plt.figure(figsize=(16,6))\n",
        "\n",
        "plt.subplot(1,2,1)\n",
        "plt.plot(y_test, lasso_reg.predict(X_test),'o', alpha = 0.4)\n",
        "plt.xlabel('Actual Rate of Homelessness',fontsize = 20)\n",
        "plt.ylabel('Predicted Rate of Homelessness',fontsize = 20)\n",
        "plt.title('Ridge' + ' ' + ' RMSE = ' + str(RMSE_lasso.round(2)),fontsize = 14)"
      ],
      "metadata": {
        "colab": {
          "base_uri": "https://localhost:8080/",
          "height": 601
        },
        "id": "YaoKnmrkBczd",
        "outputId": "67cbf776-3a38-43d6-f6bd-1ca807592151"
      },
      "execution_count": 52,
      "outputs": [
        {
          "output_type": "execute_result",
          "data": {
            "text/plain": [
              "Text(0.5, 1.0, 'Ridge  RMSE = 10.38')"
            ]
          },
          "metadata": {},
          "execution_count": 52
        },
        {
          "output_type": "display_data",
          "data": {
            "text/plain": [
              "<Figure size 1600x600 with 1 Axes>"
            ],
            "image/png": "[encoded data removed]"
          },
          "metadata": {}
        }
      ]
    },
    {
      "cell_type": "markdown",
      "source": [
        "## XGBoost Method"
      ],
      "metadata": {
        "id": "4HkJpAqlB3mK"
      }
    },
    {
      "cell_type": "markdown",
      "source": [
        "XGBoost → eXtreme Gradient Boosting\n",
        "We are going to be using cross-validation to find the best parameters for our XG boost model. "
      ],
      "metadata": {
        "id": "HsV3DqVzCVWt"
      }
    },
    {
      "cell_type": "code",
      "source": [
        "xgb_model = xgb.XGBRegressor(objective=\"reg:squarederror\")\n",
        "\n",
        "params = {\n",
        "    \"colsample_bytree\": uniform(0.7, 0.3),\n",
        "    \"gamma\": uniform(0, 0.5),\n",
        "    \"learning_rate\": uniform(0.03, 0.3), # default 0.1 \n",
        "    \"max_depth\": randint(2, 6), # default 3\n",
        "    \"n_estimators\": randint(100, 150), # default 100\n",
        "    \"subsample\": uniform(0.6, 0.4)\n",
        "}\n",
        "\n",
        "search = RandomizedSearchCV(xgb_model, param_distributions=params, n_iter=200, cv=5, verbose=1, n_jobs=1, return_train_score=True, scoring = 'neg_mean_squared_error')\n",
        "\n",
        "search.fit(X_train, y_train)"
      ],
      "metadata": {
        "colab": {
          "base_uri": "https://localhost:8080/"
        },
        "id": "zlAySTtuCIWz",
        "outputId": "06934609-abfe-4e0b-9e5b-0b016b4b3f56"
      },
      "execution_count": null,
      "outputs": [
        {
          "output_type": "stream",
          "name": "stdout",
          "text": [
            "Fitting 5 folds for each of 200 candidates, totalling 1000 fits\n"
          ]
        }
      ]
    },
    {
      "cell_type": "code",
      "source": [
        "# Creating an XGBoost model with the best parameters\n",
        "model_xgb = xgb.XGBRegressor(objective=\"reg:squarederror\")"
      ],
      "metadata": {
        "id": "CNZy9n8SEC03"
      },
      "execution_count": null,
      "outputs": []
    },
    {
      "cell_type": "code",
      "source": [
        "model_xgb.set_params(**search.best_params_)"
      ],
      "metadata": {
        "id": "S_fp0iXoEKJs"
      },
      "execution_count": null,
      "outputs": []
    },
    {
      "cell_type": "code",
      "source": [
        "# Fitting model on training data \n",
        "model_xgb = xgb.XGBRegressor()  \n",
        "model_xgb.fit(X_train, y_train)"
      ],
      "metadata": {
        "id": "WMIjxFKNEOAS"
      },
      "execution_count": null,
      "outputs": []
    },
    {
      "cell_type": "code",
      "source": [
        "# Predict the test data \n",
        "y_pred_xgb = model_xgb.predict(X_test)"
      ],
      "metadata": {
        "id": "f3t6vU_AEi1S"
      },
      "execution_count": null,
      "outputs": []
    },
    {
      "cell_type": "code",
      "source": [
        "# Plotting test values \n",
        "plt.figure(figsize = (8,6))\n",
        "\n",
        "plt.plot(y_test, y_pred_xgb, 'o');\n",
        "\n",
        "plt.xlabel('Actual Rate of Homelessness', fontsize = 15)\n",
        "plt.ylabel('Predicted Rate of Homelessness', fontsize = 15)\n",
        "\n",
        "plt.tick_params(labelsize = 15)"
      ],
      "metadata": {
        "id": "OwmvcMp2FI-p"
      },
      "execution_count": null,
      "outputs": []
    },
    {
      "cell_type": "code",
      "source": [
        "# Computing the RMSE\n",
        "mean_squared_error(y_test, y_pred_xgb, squared = False).round(3)"
      ],
      "metadata": {
        "id": "RVxj3KlLFSRx"
      },
      "execution_count": null,
      "outputs": []
    },
    {
      "cell_type": "code",
      "source": [
        "# Computing the mean absolute error\n",
        "mean_absolute_error(y_test, y_pred_xgb).round(3)"
      ],
      "metadata": {
        "id": "UTd9cUAtFYGd"
      },
      "execution_count": null,
      "outputs": []
    },
    {
      "cell_type": "code",
      "source": [
        "# Plotting variable importances for the XGBoost model\n",
        "(pd.DataFrame(dict(cols=X.columns, imp=model_xgb.feature_importances_)).\n",
        " sort_values(by = 'imp').\n",
        " plot('cols', 'imp', 'barh', legend = False, figsize = (9,10)))\n",
        "\n",
        "plt.ylabel('')\n",
        "plt.xlabel('Variable importance', fontsize = 15)\n",
        "\n",
        "plt.tick_params(labelsize = 15);"
      ],
      "metadata": {
        "id": "AOQ6SKYNFeAG"
      },
      "execution_count": null,
      "outputs": []
    },
    {
      "cell_type": "code",
      "source": [
        "xgb.to_graphviz(model_xgb, num_trees=1)"
      ],
      "metadata": {
        "id": "Pnsil98LJaqv"
      },
      "execution_count": null,
      "outputs": []
    },
    {
      "cell_type": "markdown",
      "source": [
        "## Additional Step"
      ],
      "metadata": {
        "id": "nmzyPGs8Jlu6"
      }
    },
    {
      "cell_type": "markdown",
      "source": [
        "We are trying to address:\n",
        "* Is there a difference in homelessness rates based on the type of district like in urban or suburban areas?"
      ],
      "metadata": {
        "id": "Wa7sbiR-Jv98"
      }
    },
    {
      "cell_type": "code",
      "source": [
        "# Selecting data for suburban areas \n",
        "X = df.drop(columns = ['coc_number', 'rate_homeless']).loc[df['suburban'] == 1]\n",
        "y = df['rate_homeless'].loc[df['suburban'] == 1]\n",
        "\n",
        "# Train test splitting the data \n",
        "X_train, X_test, y_train, y_test = train_test_split(X, y, test_size=.2, random_state = 8647)\n",
        "\n",
        "# Scaling the data \n",
        "scaler = RobustScaler().fit(X_train)\n",
        "X_train = scaler.transform(X_train)\n",
        "X_test = scaler.transform(X_test)\n",
        "\n",
        "# Fitting the model\n",
        "model = sm.OLS(y_train, sm.add_constant(X_train)).fit() \n",
        "variables = X.columns\n",
        "variables = np.insert(variables, 0, 'intercept')\n",
        "\n",
        "# Computing MSE, RMSE, and R^2\n",
        "MSE = mean_squared_error(y_test, model.predict(sm.add_constant(X_test)))\n",
        "RMSE = np.sqrt(MSE)\n",
        "R_squared = r2_score(y_test, model.predict(sm.add_constant(X_test)))\n",
        "\n",
        "# Creating array of alpha values \n",
        "alphas = 10**np.linspace(-4,2,10)\n",
        "\n",
        "# Initializing and fitting Lasso Regression method \n",
        "lasso = Lasso(max_iter = 100000)\n",
        "coefs = []\n",
        "\n",
        "for a in alphas:\n",
        "    lasso.set_params(alpha=a)\n",
        "    lasso.fit(X_train, y_train)\n",
        "    coefs.append(lasso.coef_)\n",
        "\n",
        "lassocv = LassoCV(alphas = None, cv = 5, max_iter = 100_000)\n",
        "lassocv.fit(X_train, y_train)\n",
        "lassocv.alpha_\n",
        "\n",
        "lasso_reg = Lasso(alpha = lassocv.alpha_).fit(X_train, y_train)\n",
        "coefficients = lasso_reg.coef_.round(3)\n",
        "coefficients = np.insert(coefficients, 0, lasso_reg.intercept_.round(4))\n",
        "\n",
        "# Computing MSE, RMSE, and R^2 for Lasso model \n",
        "variables = X.columns\n",
        "variables = np.insert(variables, 0, 'intercept')\n",
        "MSE_lasso = mean_squared_error(y_test, lasso_reg.predict(X_test))\n",
        "RMSE_lasso = np.sqrt(MSE_lasso)\n",
        "R_squared_lasso = r2_score(y_test, lasso_reg.predict(X_test))\n",
        "\n",
        "plt.figure(figsize=(16,6))\n",
        "\n",
        "# Plotting Lasso predictions \n",
        "plt.subplot(1,2,1)\n",
        "plt.plot(y_test, lasso_reg.predict(X_test),'o', alpha = 0.4, label = \"suburban\")\n",
        "plt.xlabel('Homelessness Rates',fontsize = 20)\n",
        "plt.ylabel('Predicted Homeless Rates',fontsize = 20)\n",
        "plt.title('Lasso' + ' ' + ' RMSE = ' + str(RMSE_lasso.round(2)),fontsize = 14)\n",
        "\n",
        "# Plotting Ridge predictions \n",
        "plt.subplot(1,2,2)\n",
        "plt.plot(y_test, ridge_reg.predict(X_test),'o', alpha = 0.4, label = \"suburban\")\n",
        "plt.xlabel('Homelessness Rate',fontsize = 20)\n",
        "plt.ylabel('Predicted Homeless Rate',fontsize = 20)\n",
        "plt.title('Ridge' + ' ' + ' RMSE = ' + str(RMSE_ridge.round(2)),fontsize = 14);\n",
        "\n",
        "X = df.drop(columns = ['coc_number', 'rate_homeless']).loc[df['suburban'] == 0]\n",
        "y = df['rate_homeless'].loc[df['suburban'] == 0]\n",
        "X_train, X_test, y_train, y_test = train_test_split(X, y, test_size=.2, random_state = 8647)\n",
        "scaler = RobustScaler().fit(X_train)\n",
        "X_train = scaler.transform(X_train)\n",
        "X_test = scaler.transform(X_test)\n",
        "model = sm.OLS(y_train, sm.add_constant(X_train)).fit() \n",
        "variables = X.columns\n",
        "variables = np.insert(variables, 0, 'intercept')\n",
        "MSE = mean_squared_error(y_test, model.predict(sm.add_constant(X_test)))\n",
        "RMSE = np.sqrt(MSE)\n",
        "R_squared = r2_score(y_test, model.predict(sm.add_constant(X_test)))\n",
        "alphas = 10**np.linspace(-4,2,10)\n",
        "lasso = Lasso(max_iter = 100000)\n",
        "coefs = []\n",
        "\n",
        "lassocv = LassoCV(alphas = None, cv = 5, max_iter = 100_000)\n",
        "lassocv.fit(X_train, y_train)\n",
        "lassocv.alpha_\n",
        "lasso_reg = Lasso(alpha = lassocv.alpha_).fit(X_train, y_train)\n",
        "coefficients = lasso_reg.coef_.round(3)\n",
        "coefficients = np.insert(coefficients, 0, lasso_reg.intercept_.round(4))\n",
        "\n",
        "variables = X.columns\n",
        "variables = np.insert(variables, 0, 'intercept')\n",
        "MSE_lasso = mean_squared_error(y_test, lasso_reg.predict(X_test))\n",
        "RMSE_lasso = np.sqrt(MSE_lasso)\n",
        "R_squared_lasso = r2_score(y_test, lasso_reg.predict(X_test))\n",
        "\n",
        "#Lasso \n",
        "plt.subplot(1,2,1) # first subplot \n",
        "plt.plot(y_test, lasso_reg.predict(X_test),'o', alpha = 0.4, label = \"non-suburban\")\n",
        "\n",
        "# Ridge \n",
        "plt.subplot(1,2,2) # second subplot\n",
        "plt.plot(y_test, ridge_reg.predict(X_test),'o', alpha = 0.4, label = \"non-suburban\")\n",
        "\n",
        "plt.subplots_adjust(hspace = 0.5) \n",
        "\n",
        "plt.legend(loc=\"upper left\") # adding legend \n",
        "plt.show()\n",
        "\n"
      ],
      "metadata": {
        "id": "js0urNblDRQT"
      },
      "execution_count": null,
      "outputs": []
    },
    {
      "cell_type": "markdown",
      "source": [
        "Suburban and non-suburban homelessness rates plot points appear to cluster together in the range of 0-30. This clustering suggests that there may be similarities in the factors influencing homelessness rates across both suburban and non-suburban areas within this specific range. \n",
        "\n",
        "The majority of non-suburban plot points seem to be outliers with high homelessness rates with mostly low predicted homelessness rates. The majority of non-suburban plot points appear as outliers, characterized by high homelessness rates, while the corresponding predicted homelessness rates are predominantly low. This discrepancy suggests that the model may struggle to accurately capture the complexities and unique factors influencing homelessness in non-suburban areas. "
      ],
      "metadata": {
        "id": "IfjeRcQzK4nN"
      }
    },
    {
      "cell_type": "markdown",
      "source": [
        "## Conclusion"
      ],
      "metadata": {
        "id": "OClcegJVrF8Y"
      }
    },
    {
      "cell_type": "markdown",
      "source": [
        "In conclusion, the Lasso, Ridge, and XG Boost models demonstrated similar performance with some variability in their effectiveness. This is evident from our k-fold cross-validation, where the mean RMSE across the three models was approximately 10.5. This indicates that, on average, the models predicted the homelessness rates with an error of around 10.5 percentage points.\n",
        "\n",
        "Although there is room for improvement, the best-performing models were able to achieve an accuracy of approximately 5 percentage points. However, it is important to note that the majority of non-suburban plot points appeared as outliers, exhibiting high homelessness rates with low predicted rates. This suggests that the models may face challenges in accurately capturing the unique dynamics and factors influencing homelessness in non-suburban areas.\n",
        "\n",
        "Considering the overall similarity in performance among the models, the choice between them would depend on additional factors such as the data set maybe needing to be larger for better accuracy."
      ],
      "metadata": {
        "id": "45aRW_rjrHT5"
      }
    }
  ]
}